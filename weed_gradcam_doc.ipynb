{
  "nbformat": 4,
  "nbformat_minor": 0,
  "metadata": {
    "colab": {
      "name": "weed_gradcam_doc.ipynb",
      "provenance": [],
      "authorship_tag": "ABX9TyMCLT2s98fXSMO2WWYJu9mL",
      "include_colab_link": true
    },
    "kernelspec": {
      "name": "python3",
      "display_name": "Python 3"
    }
  },
  "cells": [
    {
      "cell_type": "markdown",
      "metadata": {
        "id": "view-in-github",
        "colab_type": "text"
      },
      "source": [
        "<a href=\"https://colab.research.google.com/github/kanzaki-coder/deeplearning/blob/master/weed_gradcam_doc.ipynb\" target=\"_parent\"><img src=\"https://colab.research.google.com/assets/colab-badge.svg\" alt=\"Open In Colab\"/></a>"
      ]
    },
    {
      "cell_type": "code",
      "metadata": {
        "id": "lHRnZslAKwpt",
        "colab_type": "code",
        "colab": {}
      },
      "source": [
        "#20分類のclassを入力\n",
        "#芽生えの場合は1育成済みなら2を後ろに追加\n",
        "classes=[\"hakidamegiku\",\"hakidamegiku\",\"hosoaogeitou\",\"hosoaogeitou\",\"ichibi\",\n",
        "         \"ichibi\",\"inubie\",\"inubie\",\"kosendangusa\",\"kosendangusa\",\"mameasagao\",\n",
        "         \"mameasagao\",\"mehishiba\",\"mehishiba\",\"ohishiba\",\"ohishiba\",\"oinutade\",\n",
        "         \"oinutade\",\"shiroza\",\"shiroza\"]\n"
      ],
      "execution_count": 0,
      "outputs": []
    },
    {
      "cell_type": "code",
      "metadata": {
        "id": "jqwcawNyK5Va",
        "colab_type": "code",
        "colab": {}
      },
      "source": [
        "#10分類のclassを入力\n",
        "classes=[\"hakidamegiku\",\"hosoaogeitou\",\"ichibi\",\"inubie\",\"kosendangusa\",\"mameasagao\",\n",
        "         \"mehishiba\",\"ohishiba\",\"oinutade\",\"shiroza\"]"
      ],
      "execution_count": 0,
      "outputs": []
    },
    {
      "cell_type": "code",
      "metadata": {
        "id": "HMqflfrRK7Fe",
        "colab_type": "code",
        "colab": {}
      },
      "source": [
        "#7分類のclassを入力\n",
        "classes=[\"kikuf\",\"hosoaogeitou\",\"ichibi\",\"inef\",\"mameasagao\",\"oinutade\",\"shiroza\"]"
      ],
      "execution_count": 0,
      "outputs": []
    },
    {
      "cell_type": "code",
      "metadata": {
        "id": "YuSVxfzYK8ta",
        "colab_type": "code",
        "colab": {}
      },
      "source": [
        "from keras.preprocessing import image\n",
        "from PIL import Image \n",
        "from keras.preprocessing import image as images\n",
        "\n",
        "img_path = \"/content/cluster01/shiroza/shiroza_IMG_1542_19.JPG\"\n",
        "#↑判定させたいpathを指定する\n",
        "\n",
        "input_size=224\n",
        "x=img_path\n",
        "img = Image.open(img_path).convert('RGB') \n",
        "img = img.resize((input_size,input_size))\n",
        "y = np.array(img, dtype=np.float32)\n",
        "y = y / 255.\n",
        "plt.imshow(y)\n",
        "print(\"以下の画像を判定します\")"
      ],
      "execution_count": 0,
      "outputs": []
    },
    {
      "cell_type": "code",
      "metadata": {
        "id": "py-gKW4ALAQr",
        "colab_type": "code",
        "colab": {}
      },
      "source": [
        "\n",
        "x=np.expand_dims(x,axis=0)\n",
        "pred = model.predict(x, batch_size=1, verbose=0)\n",
        "\n",
        "#最大の確率のものを抜き出す\n",
        "pred_label = np.argmax(pred)\n",
        "print(pred_label)\n",
        "\n",
        "#もし各可能性を行列で見たい場合\n",
        "print(pred)\n",
        "\n"
      ],
      "execution_count": 0,
      "outputs": []
    },
    {
      "cell_type": "code",
      "metadata": {
        "id": "UWXj3kZPLDpJ",
        "colab_type": "code",
        "colab": {}
      },
      "source": [
        "plt.imshow(y)\n",
        "print(\"この画像は\"+classes[pred_label]+\"です\")"
      ],
      "execution_count": 0,
      "outputs": []
    },
    {
      "cell_type": "code",
      "metadata": {
        "id": "_RK8gVeSLEfl",
        "colab_type": "code",
        "colab": {}
      },
      "source": [
        "# 好きな画像のパスを取得\n",
        "img_path = \"/content/cluster01/shiroza/shiroza_IMG_1542_19.JPG\"\n",
        "\n",
        "#ここからgradcam\n",
        "\n",
        "from keras.preprocessing import image\n",
        "from PIL import Image \n",
        "from keras.preprocessing import image as images\n",
        "\n",
        "img=image.load_img(img_path,target_size=(input_size,input_size))\n",
        "\n",
        "# データの前処理\n",
        "img = image.load_img(img_path, target_size=(input_size,input_size))\n",
        "\n",
        "# xは形状が(224,224,3)のfloat32型のnumpy配列\n",
        "x = image.img_to_array(img)/255.0\n",
        "# この配列サイズが(1,224,224, 3)のバッチに変換するために次元を追加\n",
        "x = np.expand_dims(x, axis=0)\n"
      ],
      "execution_count": 0,
      "outputs": []
    },
    {
      "cell_type": "code",
      "metadata": {
        "id": "HPPTQBDdLGrU",
        "colab_type": "code",
        "colab": {}
      },
      "source": [
        "from keras import backend as K \n",
        "import matplotlib.pyplot as plt\n",
        "\n",
        "# 予測ベクトル\n",
        "output = my_model.output[:,np.argmax(preds[0])]\n",
        "\n",
        "# 最後の層であるblock5_conv3の出力特徴マップ\n",
        "last_conv_layer = my_model.get_layer(last_layer_name)\n",
        "\n",
        "# block5_conv3の出力特徴マップでの「ある」クラス勾配\n",
        "grads = K.gradients(output,last_conv_layer.output)[0]\n",
        "\n",
        "\n",
        "# 各エントリは特定の特徴マップの平均強度\n",
        "pooled_grads = K.mean(grads,axis=(0,1,2))\n",
        "\n",
        "#出力マップの値にアクセスするための関数\n",
        "iterate = K.function([my_model.input], [pooled_grads, last_conv_layer.output[0]])\n",
        "\n",
        "# 2つの値をNumpy配列で取得\n",
        "pooled_grads_value, conv_layer_output_value = iterate([x])\n",
        "\n",
        "# 「ある」クラスに関する「このチャネルの重要度」を特徴マップ配列の各チャネルに掛ける\n",
        "for i in range(pooled_grads_value.shape[0]):\n",
        "    conv_layer_output_value[:,:,i] *= pooled_grads_value[i]\n",
        "\n",
        "# 最終的な特徴マップのチャネルごとの平均値がクラスの活性化のヒートマップ\n",
        "heatmap = np.mean(conv_layer_output_value,axis=-1 )\n",
        "\n",
        "# ヒートマップの後処理\n",
        "print(heatmap.shape)\n",
        "heatmap = np.maximum(heatmap, 0)\n",
        "heatmap /= np.max(heatmap)\n",
        "plt.matshow(heatmap)"
      ],
      "execution_count": 0,
      "outputs": []
    },
    {
      "cell_type": "code",
      "metadata": {
        "id": "J16u-9xCLIvV",
        "colab_type": "code",
        "colab": {}
      },
      "source": [
        "import cv2\n",
        "\n",
        "# cv2を使って画像読み込み\n",
        "img = cv2.imread(img_path)\n",
        "# 元画像と同じサイズになるようにヒートマップのサイズを変更\n",
        "heatmap = cv2.resize(heatmap, (img.shape[1], img.shape[0]))\n",
        "# ヒートマップをRGBに変換\n",
        "heatmap = np.uint8(255 * heatmap)\n",
        "# ヒートマップをもとの画像に適応\n",
        "heatmap = cv2.applyColorMap(heatmap, cv2.COLORMAP_JET)\n",
        "\n",
        "# 0.4はヒートマップの強度係数(もうちょっと強くしてもいい)\n",
        "superimporsed_img = heatmap * 0.4 + img\n",
        "# 画像を保存\n",
        "cv2.imwrite('保存したい名前.jpg',superimporsed_img)"
      ],
      "execution_count": 0,
      "outputs": []
    },
    {
      "cell_type": "code",
      "metadata": {
        "id": "zaAeRKx3LLOT",
        "colab_type": "code",
        "colab": {}
      },
      "source": [
        "img = image.load_img('保存したい名前.jpg', target_size=(input_size,input_size))\n",
        "img_tensor = image.img_to_array(img)\n",
        "img_tensor /= 255.\n",
        "plt.imshow(img_tensor)\n",
        "plt.show"
      ],
      "execution_count": 0,
      "outputs": []
    },
    {
      "cell_type": "code",
      "metadata": {
        "id": "VixjSiTWLM98",
        "colab_type": "code",
        "colab": {}
      },
      "source": [
        ""
      ],
      "execution_count": 0,
      "outputs": []
    }
  ]
}