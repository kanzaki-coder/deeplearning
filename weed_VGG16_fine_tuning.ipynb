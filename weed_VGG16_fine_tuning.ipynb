{
  "nbformat": 4,
  "nbformat_minor": 0,
  "metadata": {
    "colab": {
      "name": "weed_VGG16_fine-tuning",
      "provenance": [],
      "collapsed_sections": [],
      "toc_visible": true,
      "include_colab_link": true
    },
    "kernelspec": {
      "name": "python3",
      "display_name": "Python 3"
    },
    "accelerator": "GPU"
  },
  "cells": [
    {
      "cell_type": "markdown",
      "metadata": {
        "id": "view-in-github",
        "colab_type": "text"
      },
      "source": [
        "<a href=\"https://colab.research.google.com/github/kanzaki-coder/deeplearning/blob/master/weed_VGG16_fine_tuning.ipynb\" target=\"_parent\"><img src=\"https://colab.research.google.com/assets/colab-badge.svg\" alt=\"Open In Colab\"/></a>"
      ]
    },
    {
      "cell_type": "code",
      "metadata": {
        "id": "FS5nBLg3rUS5",
        "colab_type": "code",
        "outputId": "efac2338-6151-4bc7-eddd-65d6e6317625",
        "colab": {
          "base_uri": "https://localhost:8080/",
          "height": 159
        }
      },
      "source": [
        "#gitから回す用（本番）\n",
        "\n",
        "!git clone https://github.com/kanzaki-coder/deeplearning.git"
      ],
      "execution_count": 0,
      "outputs": [
        {
          "output_type": "stream",
          "text": [
            "Cloning into 'deeplearning'...\n",
            "remote: Enumerating objects: 10, done.\u001b[K\n",
            "remote: Counting objects: 100% (10/10), done.\u001b[K\n",
            "remote: Compressing objects: 100% (10/10), done.\u001b[K\n",
            "remote: Total 101 (delta 3), reused 0 (delta 0), pack-reused 91\u001b[K\n",
            "Receiving objects: 100% (101/101), 466.05 MiB | 13.18 MiB/s, done.\n",
            "Resolving deltas: 100% (38/38), done.\n",
            "Checking out files: 100% (25/25), done.\n"
          ],
          "name": "stdout"
        }
      ]
    },
    {
      "cell_type": "code",
      "metadata": {
        "id": "4VBcPQBAxOqt",
        "colab_type": "code",
        "outputId": "17dcbb8a-a9c3-45aa-afa4-a15776dcee73",
        "colab": {
          "base_uri": "https://localhost:8080/",
          "height": 53
        }
      },
      "source": [
        "#複数のzipを展開する場合はディレクトリを用意する必要がある。\n",
        "%cd /content/deeplearning\n",
        "!mkdir weed_type\n",
        "%cd /content/deeplearning/weed_type\n",
        "!mkdir ichibi\n",
        "!mkdir mameasagao\n",
        "!mkdir mehishiba\n",
        "!mkdir oinutade"
      ],
      "execution_count": 0,
      "outputs": [
        {
          "output_type": "stream",
          "text": [
            "/content/deeplearning\n",
            "/content/deeplearning/weed_type\n"
          ],
          "name": "stdout"
        }
      ]
    },
    {
      "cell_type": "code",
      "metadata": {
        "id": "d5m8jIYe9VhP",
        "colab_type": "code",
        "colab": {}
      },
      "source": [
        "#for文で回した方がいいかも？\n",
        "\n",
        "#各ディレクトリにzipファイルを展開\n",
        "%cd /content/deeplearning/weed_type/\n",
        "!unzip /content/deeplearning/hakidamegiku.zip\n",
        "\n",
        "%cd /content/deeplearning/weed_type/\n",
        "!unzip /content/deeplearning/hamasuge.zip\n",
        "\n",
        "%cd /content/deeplearning/weed_type/\n",
        "!unzip /content/deeplearning/hosoaogeitou.zip\n",
        "\n",
        "%cd /content/deeplearning/weed_type/ichibi\n",
        "!unzip /content/deeplearning/ichibi_1.zip\n",
        "!unzip /content/deeplearning/ichibi_2.zip\n",
        "!unzip /content/deeplearning/ichibi_3.zip\n",
        "!unzip /content/deeplearning/ichibi_4.zip\n",
        "!unzip /content/deeplearning/ichibi_5.zip\n",
        "!unzip /content/deeplearning/ichibi_6.zip\n",
        "\n",
        "%cd /content/deeplearning/weed_type/mameasagao\n",
        "!unzip /content/deeplearning/mameasagao_1.zip\n",
        "!unzip /content/deeplearning/mameasagao_2.zip\n",
        "!unzip /content/deeplearning/mameasagao_3.zip\n",
        "!unzip /content/deeplearning/mameasagao_4.zip\n",
        "!unzip /content/deeplearning/mameasagao_5.zip\n",
        "\n",
        "\n",
        "%cd /content/deeplearning/weed_type/mehishiba\n",
        "!unzip /content/deeplearning/mehishiba_1.zip\n",
        "!unzip /content/deeplearning/mehishiba_2.zip\n",
        "!unzip /content/deeplearning/mehishiba_3.zip\n",
        "!unzip /content/deeplearning/mehishiba_4.zip\n",
        "\n",
        "%cd /content/deeplearning/weed_type/\n",
        "!unzip /content/deeplearning/ohishiba.zip\n",
        "\n",
        "%cd /content/deeplearning/weed_type/oinutade\n",
        "!unzip /content/deeplearning/oinutade_1.zip\n",
        "!unzip /content/deeplearning/oinutade_2.zip\n",
        "\n",
        "\n",
        "%cd /content/deeplearning/weed_type/\n",
        "!unzip /content/deeplearning/shiroza.zip\n",
        "\n",
        "#本番用ここまで"
      ],
      "execution_count": 0,
      "outputs": []
    },
    {
      "cell_type": "code",
      "metadata": {
        "id": "0H32m4LLL0o3",
        "colab_type": "code",
        "outputId": "3d3cdaac-8ae7-4286-dc48-dc86d9f69182",
        "colab": {
          "base_uri": "https://localhost:8080/",
          "height": 126
        }
      },
      "source": [
        "#ドライブでマウントする場合\n",
        "from google.colab import drive \n",
        "drive.mount('/content/drive')"
      ],
      "execution_count": 0,
      "outputs": [
        {
          "output_type": "stream",
          "text": [
            "Go to this URL in a browser: https://accounts.google.com/o/oauth2/auth?client_id=947318989803-6bn6qk8qdgf4n4g3pfee6491hc0brc4i.apps.googleusercontent.com&redirect_uri=urn%3aietf%3awg%3aoauth%3a2.0%3aoob&response_type=code&scope=email%20https%3a%2f%2fwww.googleapis.com%2fauth%2fdocs.test%20https%3a%2f%2fwww.googleapis.com%2fauth%2fdrive%20https%3a%2f%2fwww.googleapis.com%2fauth%2fdrive.photos.readonly%20https%3a%2f%2fwww.googleapis.com%2fauth%2fpeopleapi.readonly\n",
            "\n",
            "Enter your authorization code:\n",
            "··········\n",
            "Mounted at /content/drive\n"
          ],
          "name": "stdout"
        }
      ]
    },
    {
      "cell_type": "markdown",
      "metadata": {
        "id": "OZi2bu77bL5w",
        "colab_type": "text"
      },
      "source": [
        ""
      ]
    },
    {
      "cell_type": "code",
      "metadata": {
        "id": "fXPQr-AugkVz",
        "colab_type": "code",
        "outputId": "0985059f-4d82-4c8e-be45-e0a89002ef75",
        "colab": {
          "base_uri": "https://localhost:8080/",
          "height": 511
        }
      },
      "source": [
        "#VGG16とデータセット水増しを使う場合\n",
        "from keras.applications import VGG16\n",
        "conv_base=VGG16(weights='imagenet',\n",
        "               include_top=False,\n",
        "               input_shape=(150,150,3))\n"
      ],
      "execution_count": 0,
      "outputs": [
        {
          "output_type": "stream",
          "text": [
            "Using TensorFlow backend.\n"
          ],
          "name": "stderr"
        },
        {
          "output_type": "display_data",
          "data": {
            "text/html": [
              "<p style=\"color: red;\">\n",
              "The default version of TensorFlow in Colab will soon switch to TensorFlow 2.x.<br>\n",
              "We recommend you <a href=\"https://www.tensorflow.org/guide/migrate\" target=\"_blank\">upgrade</a> now \n",
              "or ensure your notebook will continue to use TensorFlow 1.x via the <code>%tensorflow_version 1.x</code> magic:\n",
              "<a href=\"https://colab.research.google.com/notebooks/tensorflow_version.ipynb\" target=\"_blank\">more info</a>.</p>\n"
            ],
            "text/plain": [
              "<IPython.core.display.HTML object>"
            ]
          },
          "metadata": {
            "tags": []
          }
        },
        {
          "output_type": "stream",
          "text": [
            "WARNING:tensorflow:From /usr/local/lib/python3.6/dist-packages/keras/backend/tensorflow_backend.py:66: The name tf.get_default_graph is deprecated. Please use tf.compat.v1.get_default_graph instead.\n",
            "\n",
            "WARNING:tensorflow:From /usr/local/lib/python3.6/dist-packages/keras/backend/tensorflow_backend.py:541: The name tf.placeholder is deprecated. Please use tf.compat.v1.placeholder instead.\n",
            "\n",
            "WARNING:tensorflow:From /usr/local/lib/python3.6/dist-packages/keras/backend/tensorflow_backend.py:4432: The name tf.random_uniform is deprecated. Please use tf.random.uniform instead.\n",
            "\n",
            "WARNING:tensorflow:From /usr/local/lib/python3.6/dist-packages/keras/backend/tensorflow_backend.py:4267: The name tf.nn.max_pool is deprecated. Please use tf.nn.max_pool2d instead.\n",
            "\n",
            "Downloading data from https://github.com/fchollet/deep-learning-models/releases/download/v0.1/vgg16_weights_tf_dim_ordering_tf_kernels_notop.h5\n",
            "58892288/58889256 [==============================] - 1s 0us/step\n",
            "WARNING:tensorflow:From /usr/local/lib/python3.6/dist-packages/keras/backend/tensorflow_backend.py:190: The name tf.get_default_session is deprecated. Please use tf.compat.v1.get_default_session instead.\n",
            "\n",
            "WARNING:tensorflow:From /usr/local/lib/python3.6/dist-packages/keras/backend/tensorflow_backend.py:197: The name tf.ConfigProto is deprecated. Please use tf.compat.v1.ConfigProto instead.\n",
            "\n",
            "WARNING:tensorflow:From /usr/local/lib/python3.6/dist-packages/keras/backend/tensorflow_backend.py:203: The name tf.Session is deprecated. Please use tf.compat.v1.Session instead.\n",
            "\n",
            "WARNING:tensorflow:From /usr/local/lib/python3.6/dist-packages/keras/backend/tensorflow_backend.py:207: The name tf.global_variables is deprecated. Please use tf.compat.v1.global_variables instead.\n",
            "\n",
            "WARNING:tensorflow:From /usr/local/lib/python3.6/dist-packages/keras/backend/tensorflow_backend.py:216: The name tf.is_variable_initialized is deprecated. Please use tf.compat.v1.is_variable_initialized instead.\n",
            "\n",
            "WARNING:tensorflow:From /usr/local/lib/python3.6/dist-packages/keras/backend/tensorflow_backend.py:223: The name tf.variables_initializer is deprecated. Please use tf.compat.v1.variables_initializer instead.\n",
            "\n"
          ],
          "name": "stdout"
        }
      ]
    },
    {
      "cell_type": "code",
      "metadata": {
        "id": "vDfN0mYelEOr",
        "colab_type": "code",
        "outputId": "4ba0415c-8b80-4f11-bd6f-9347468b34fe",
        "colab": {
          "base_uri": "https://localhost:8080/",
          "height": 392
        }
      },
      "source": [
        "\n",
        "from keras import models\n",
        "from keras import layers\n",
        "from keras.optimizers import Adam\n",
        "\n",
        "model=models.Sequential()\n",
        "model.add(conv_base)\n",
        "model.add(layers.Flatten())\n",
        "model.add(layers.Dense(256,activation='relu',input_dim=4*4*512))\n",
        "#model.add(layers.Dropout(0.2))\n",
        "model.add(layers.Dense(9,activation='softmax'))\n",
        "conv_base.trainable=False\n",
        "model.compile(optimizer=Adam(lr=1e-3),\n",
        "              loss='categorical_crossentropy',\n",
        "             metrics=['accuracy'])\n",
        "model.summary()\n",
        "\n"
      ],
      "execution_count": 0,
      "outputs": [
        {
          "output_type": "stream",
          "text": [
            "WARNING:tensorflow:From /usr/local/lib/python3.6/dist-packages/keras/optimizers.py:793: The name tf.train.Optimizer is deprecated. Please use tf.compat.v1.train.Optimizer instead.\n",
            "\n",
            "WARNING:tensorflow:From /usr/local/lib/python3.6/dist-packages/keras/backend/tensorflow_backend.py:3576: The name tf.log is deprecated. Please use tf.math.log instead.\n",
            "\n",
            "Model: \"sequential_1\"\n",
            "_________________________________________________________________\n",
            "Layer (type)                 Output Shape              Param #   \n",
            "=================================================================\n",
            "vgg16 (Model)                (None, 4, 4, 512)         14714688  \n",
            "_________________________________________________________________\n",
            "flatten_1 (Flatten)          (None, 8192)              0         \n",
            "_________________________________________________________________\n",
            "dense_1 (Dense)              (None, 256)               2097408   \n",
            "_________________________________________________________________\n",
            "dense_2 (Dense)              (None, 9)                 2313      \n",
            "=================================================================\n",
            "Total params: 16,814,409\n",
            "Trainable params: 2,099,721\n",
            "Non-trainable params: 14,714,688\n",
            "_________________________________________________________________\n"
          ],
          "name": "stdout"
        }
      ]
    },
    {
      "cell_type": "markdown",
      "metadata": {
        "id": "WUfJfOM9KwMt",
        "colab_type": "text"
      },
      "source": [
        ""
      ]
    },
    {
      "cell_type": "code",
      "metadata": {
        "id": "Mh5VJqY8J-DE",
        "colab_type": "code",
        "outputId": "95e32491-0e71-4e7b-ab27-309cf89bcc86",
        "colab": {
          "base_uri": "https://localhost:8080/",
          "height": 53
        }
      },
      "source": [
        "import os \n",
        "import numpy as np\n",
        "from keras.preprocessing.image import ImageDataGenerator\n",
        "import keras.preprocessing.image as Image\n",
        "\n",
        "#clsdir = \"/content/deeplearning/weed_type\"\n",
        "clsdir = \"/content/drive/My Drive/cluster0312\"\n",
        "\n",
        "\n",
        "\n",
        "\n",
        "datagen = Image.ImageDataGenerator(\n",
        "            featurewise_center = False,\n",
        "            samplewise_center = False,\n",
        "            featurewise_std_normalization = False,\n",
        "            samplewise_std_normalization = False,\n",
        "            zca_whitening = False,\n",
        "            rotation_range = 90,\n",
        "            width_shift_range = 0.3,\n",
        "            height_shift_range = 0.3,\n",
        "            horizontal_flip = True,\n",
        "            vertical_flip = False,\n",
        "            validation_split = 0.2,\n",
        "            rescale=1./255\n",
        "        )\n",
        "\n",
        "train_generator=datagen.flow_from_directory(\n",
        "            clsdir,\n",
        "            target_size=(150,150),\n",
        "            batch_size=20,\n",
        "            class_mode='categorical',\n",
        "            shuffle=True,\n",
        "            subset = \"training\"\n",
        "        )\n",
        "\n",
        "validation_generator = datagen.flow_from_directory(\n",
        "            clsdir,\n",
        "            target_size=(150,150 ),\n",
        "            batch_size=20,\n",
        "            class_mode='categorical',\n",
        "            shuffle=True,\n",
        "            subset = \"validation\"\n",
        "        )\n"
      ],
      "execution_count": 0,
      "outputs": [
        {
          "output_type": "stream",
          "text": [
            "Found 3129 images belonging to 20 classes.\n",
            "Found 775 images belonging to 20 classes.\n"
          ],
          "name": "stdout"
        }
      ]
    },
    {
      "cell_type": "code",
      "metadata": {
        "id": "28ZEH7JCKX53",
        "colab_type": "code",
        "outputId": "f64c8ce1-7a39-47e1-ff13-79c6a89fec94",
        "colab": {
          "base_uri": "https://localhost:8080/",
          "height": 374
        }
      },
      "source": [
        "history=model.fit_generator(\n",
        "    train_generator,\n",
        "    steps_per_epoch=100,\n",
        "    epochs=100,\n",
        "    validation_data=validation_generator,\n",
        "    validation_steps=50\n",
        "    )"
      ],
      "execution_count": 0,
      "outputs": [
        {
          "output_type": "error",
          "ename": "RuntimeError",
          "evalue": "ignored",
          "traceback": [
            "\u001b[0;31m---------------------------------------------------------------------------\u001b[0m",
            "\u001b[0;31mRuntimeError\u001b[0m                              Traceback (most recent call last)",
            "\u001b[0;32m<ipython-input-7-5d2ff4a0bb6b>\u001b[0m in \u001b[0;36m<module>\u001b[0;34m()\u001b[0m\n\u001b[1;32m      4\u001b[0m     \u001b[0mepochs\u001b[0m\u001b[0;34m=\u001b[0m\u001b[0;36m100\u001b[0m\u001b[0;34m,\u001b[0m\u001b[0;34m\u001b[0m\u001b[0;34m\u001b[0m\u001b[0m\n\u001b[1;32m      5\u001b[0m     \u001b[0mvalidation_data\u001b[0m\u001b[0;34m=\u001b[0m\u001b[0mvalidation_generator\u001b[0m\u001b[0;34m,\u001b[0m\u001b[0;34m\u001b[0m\u001b[0;34m\u001b[0m\u001b[0m\n\u001b[0;32m----> 6\u001b[0;31m     \u001b[0mvalidation_steps\u001b[0m\u001b[0;34m=\u001b[0m\u001b[0;36m50\u001b[0m\u001b[0;34m\u001b[0m\u001b[0;34m\u001b[0m\u001b[0m\n\u001b[0m\u001b[1;32m      7\u001b[0m     )\n",
            "\u001b[0;32m/usr/local/lib/python3.6/dist-packages/keras/legacy/interfaces.py\u001b[0m in \u001b[0;36mwrapper\u001b[0;34m(*args, **kwargs)\u001b[0m\n\u001b[1;32m     89\u001b[0m                 warnings.warn('Update your `' + object_name + '` call to the ' +\n\u001b[1;32m     90\u001b[0m                               'Keras 2 API: ' + signature, stacklevel=2)\n\u001b[0;32m---> 91\u001b[0;31m             \u001b[0;32mreturn\u001b[0m \u001b[0mfunc\u001b[0m\u001b[0;34m(\u001b[0m\u001b[0;34m*\u001b[0m\u001b[0margs\u001b[0m\u001b[0;34m,\u001b[0m \u001b[0;34m**\u001b[0m\u001b[0mkwargs\u001b[0m\u001b[0;34m)\u001b[0m\u001b[0;34m\u001b[0m\u001b[0;34m\u001b[0m\u001b[0m\n\u001b[0m\u001b[1;32m     92\u001b[0m         \u001b[0mwrapper\u001b[0m\u001b[0;34m.\u001b[0m\u001b[0m_original_function\u001b[0m \u001b[0;34m=\u001b[0m \u001b[0mfunc\u001b[0m\u001b[0;34m\u001b[0m\u001b[0;34m\u001b[0m\u001b[0m\n\u001b[1;32m     93\u001b[0m         \u001b[0;32mreturn\u001b[0m \u001b[0mwrapper\u001b[0m\u001b[0;34m\u001b[0m\u001b[0;34m\u001b[0m\u001b[0m\n",
            "\u001b[0;32m/usr/local/lib/python3.6/dist-packages/keras/engine/training.py\u001b[0m in \u001b[0;36mfit_generator\u001b[0;34m(self, generator, steps_per_epoch, epochs, verbose, callbacks, validation_data, validation_steps, validation_freq, class_weight, max_queue_size, workers, use_multiprocessing, shuffle, initial_epoch)\u001b[0m\n\u001b[1;32m   1656\u001b[0m             \u001b[0muse_multiprocessing\u001b[0m\u001b[0;34m=\u001b[0m\u001b[0muse_multiprocessing\u001b[0m\u001b[0;34m,\u001b[0m\u001b[0;34m\u001b[0m\u001b[0;34m\u001b[0m\u001b[0m\n\u001b[1;32m   1657\u001b[0m             \u001b[0mshuffle\u001b[0m\u001b[0;34m=\u001b[0m\u001b[0mshuffle\u001b[0m\u001b[0;34m,\u001b[0m\u001b[0;34m\u001b[0m\u001b[0;34m\u001b[0m\u001b[0m\n\u001b[0;32m-> 1658\u001b[0;31m             initial_epoch=initial_epoch)\n\u001b[0m\u001b[1;32m   1659\u001b[0m \u001b[0;34m\u001b[0m\u001b[0m\n\u001b[1;32m   1660\u001b[0m     \u001b[0;34m@\u001b[0m\u001b[0minterfaces\u001b[0m\u001b[0;34m.\u001b[0m\u001b[0mlegacy_generator_methods_support\u001b[0m\u001b[0;34m\u001b[0m\u001b[0;34m\u001b[0m\u001b[0m\n",
            "\u001b[0;32m/usr/local/lib/python3.6/dist-packages/keras/engine/training_generator.py\u001b[0m in \u001b[0;36mfit_generator\u001b[0;34m(model, generator, steps_per_epoch, epochs, verbose, callbacks, validation_data, validation_steps, validation_freq, class_weight, max_queue_size, workers, use_multiprocessing, shuffle, initial_epoch)\u001b[0m\n\u001b[1;32m     40\u001b[0m \u001b[0;34m\u001b[0m\u001b[0m\n\u001b[1;32m     41\u001b[0m     \u001b[0mdo_validation\u001b[0m \u001b[0;34m=\u001b[0m \u001b[0mbool\u001b[0m\u001b[0;34m(\u001b[0m\u001b[0mvalidation_data\u001b[0m\u001b[0;34m)\u001b[0m\u001b[0;34m\u001b[0m\u001b[0;34m\u001b[0m\u001b[0m\n\u001b[0;32m---> 42\u001b[0;31m     \u001b[0mmodel\u001b[0m\u001b[0;34m.\u001b[0m\u001b[0m_make_train_function\u001b[0m\u001b[0;34m(\u001b[0m\u001b[0;34m)\u001b[0m\u001b[0;34m\u001b[0m\u001b[0;34m\u001b[0m\u001b[0m\n\u001b[0m\u001b[1;32m     43\u001b[0m     \u001b[0;32mif\u001b[0m \u001b[0mdo_validation\u001b[0m\u001b[0;34m:\u001b[0m\u001b[0;34m\u001b[0m\u001b[0;34m\u001b[0m\u001b[0m\n\u001b[1;32m     44\u001b[0m         \u001b[0mmodel\u001b[0m\u001b[0;34m.\u001b[0m\u001b[0m_make_test_function\u001b[0m\u001b[0;34m(\u001b[0m\u001b[0;34m)\u001b[0m\u001b[0;34m\u001b[0m\u001b[0;34m\u001b[0m\u001b[0m\n",
            "\u001b[0;32m/usr/local/lib/python3.6/dist-packages/keras/engine/training.py\u001b[0m in \u001b[0;36m_make_train_function\u001b[0;34m(self)\u001b[0m\n\u001b[1;32m    497\u001b[0m     \u001b[0;32mdef\u001b[0m \u001b[0m_make_train_function\u001b[0m\u001b[0;34m(\u001b[0m\u001b[0mself\u001b[0m\u001b[0;34m)\u001b[0m\u001b[0;34m:\u001b[0m\u001b[0;34m\u001b[0m\u001b[0;34m\u001b[0m\u001b[0m\n\u001b[1;32m    498\u001b[0m         \u001b[0;32mif\u001b[0m \u001b[0;32mnot\u001b[0m \u001b[0mhasattr\u001b[0m\u001b[0;34m(\u001b[0m\u001b[0mself\u001b[0m\u001b[0;34m,\u001b[0m \u001b[0;34m'train_function'\u001b[0m\u001b[0;34m)\u001b[0m\u001b[0;34m:\u001b[0m\u001b[0;34m\u001b[0m\u001b[0;34m\u001b[0m\u001b[0m\n\u001b[0;32m--> 499\u001b[0;31m             \u001b[0;32mraise\u001b[0m \u001b[0mRuntimeError\u001b[0m\u001b[0;34m(\u001b[0m\u001b[0;34m'You must compile your model before using it.'\u001b[0m\u001b[0;34m)\u001b[0m\u001b[0;34m\u001b[0m\u001b[0;34m\u001b[0m\u001b[0m\n\u001b[0m\u001b[1;32m    500\u001b[0m         \u001b[0mself\u001b[0m\u001b[0;34m.\u001b[0m\u001b[0m_check_trainable_weights_consistency\u001b[0m\u001b[0;34m(\u001b[0m\u001b[0;34m)\u001b[0m\u001b[0;34m\u001b[0m\u001b[0;34m\u001b[0m\u001b[0m\n\u001b[1;32m    501\u001b[0m         \u001b[0;32mif\u001b[0m \u001b[0mself\u001b[0m\u001b[0;34m.\u001b[0m\u001b[0mtrain_function\u001b[0m \u001b[0;32mis\u001b[0m \u001b[0;32mNone\u001b[0m\u001b[0;34m:\u001b[0m\u001b[0;34m\u001b[0m\u001b[0;34m\u001b[0m\u001b[0m\n",
            "\u001b[0;31mRuntimeError\u001b[0m: You must compile your model before using it."
          ]
        }
      ]
    },
    {
      "cell_type": "code",
      "metadata": {
        "id": "6rkuUE_FO7t4",
        "colab_type": "code",
        "outputId": "e3578b22-f485-412d-9bae-1f5a7bcd1c91",
        "colab": {
          "base_uri": "https://localhost:8080/",
          "height": 545
        }
      },
      "source": [
        "import matplotlib.pyplot as plt\n",
        "\n",
        "acc=history.history['acc']\n",
        "val_acc=history.history['val_acc']\n",
        "loss=history.history['loss']\n",
        "val_loss=history.history['val_loss']\n",
        "\n",
        "epochs=range(1,len(acc)+1)\n",
        "\n",
        "#正解率plot\n",
        "plt.plot(epochs,acc,'bo',label='Training acc')\n",
        "plt.plot(epochs,val_acc,'b',label='Validation acc')\n",
        "plt.title('Training and validation accuracy')\n",
        "plt.legend()\n",
        "\n",
        "plt.figure()\n",
        "\n",
        "\n",
        "#損失値をplot\n",
        "plt.plot(epochs,loss,'bo',label='Training loss')\n",
        "plt.plot(epochs,val_loss,'b',label='Validation loss')\n",
        "plt.title('Training and validation loss')\n",
        "plt.legend()\n",
        "\n",
        "plt.show()\n"
      ],
      "execution_count": 0,
      "outputs": [
        {
          "output_type": "display_data",
          "data": {
            "image/png": "[encoded data removed]",
            "text/plain": [
              "<Figure size 432x288 with 1 Axes>"
            ]
          },
          "metadata": {
            "tags": []
          }
        },
        {
          "output_type": "display_data",
          "data": {
            "image/png": "[encoded data removed]",
            "text/plain": [
              "<Figure size 432x288 with 1 Axes>"
            ]
          },
          "metadata": {
            "tags": []
          }
        }
      ]
    },
    {
      "cell_type": "code",
      "metadata": {
        "id": "6hJx4G-tSNA5",
        "colab_type": "code",
        "colab": {}
      },
      "source": [
        ""
      ],
      "execution_count": 0,
      "outputs": []
    },
    {
      "cell_type": "code",
      "metadata": {
        "id": "pplRP7vvg4BR",
        "colab_type": "code",
        "outputId": "663539df-b3d7-4a64-f3c6-b30632a0ce24",
        "colab": {
          "base_uri": "https://localhost:8080/",
          "height": 511
        }
      },
      "source": [
        "#ここからファインチューニング+VGG+水増し。ここから実行してOK（VGG16をダウンロード）\n",
        "from keras.applications import VGG16\n",
        "conv_base=VGG16(weights='imagenet',\n",
        "               include_top=False,\n",
        "               input_shape=(150,150,3))"
      ],
      "execution_count": 0,
      "outputs": [
        {
          "output_type": "stream",
          "text": [
            "Using TensorFlow backend.\n"
          ],
          "name": "stderr"
        },
        {
          "output_type": "display_data",
          "data": {
            "text/html": [
              "<p style=\"color: red;\">\n",
              "The default version of TensorFlow in Colab will soon switch to TensorFlow 2.x.<br>\n",
              "We recommend you <a href=\"https://www.tensorflow.org/guide/migrate\" target=\"_blank\">upgrade</a> now \n",
              "or ensure your notebook will continue to use TensorFlow 1.x via the <code>%tensorflow_version 1.x</code> magic:\n",
              "<a href=\"https://colab.research.google.com/notebooks/tensorflow_version.ipynb\" target=\"_blank\">more info</a>.</p>\n"
            ],
            "text/plain": [
              "<IPython.core.display.HTML object>"
            ]
          },
          "metadata": {
            "tags": []
          }
        },
        {
          "output_type": "stream",
          "text": [
            "WARNING:tensorflow:From /usr/local/lib/python3.6/dist-packages/keras/backend/tensorflow_backend.py:66: The name tf.get_default_graph is deprecated. Please use tf.compat.v1.get_default_graph instead.\n",
            "\n",
            "WARNING:tensorflow:From /usr/local/lib/python3.6/dist-packages/keras/backend/tensorflow_backend.py:541: The name tf.placeholder is deprecated. Please use tf.compat.v1.placeholder instead.\n",
            "\n",
            "WARNING:tensorflow:From /usr/local/lib/python3.6/dist-packages/keras/backend/tensorflow_backend.py:4432: The name tf.random_uniform is deprecated. Please use tf.random.uniform instead.\n",
            "\n",
            "WARNING:tensorflow:From /usr/local/lib/python3.6/dist-packages/keras/backend/tensorflow_backend.py:4267: The name tf.nn.max_pool is deprecated. Please use tf.nn.max_pool2d instead.\n",
            "\n",
            "Downloading data from https://github.com/fchollet/deep-learning-models/releases/download/v0.1/vgg16_weights_tf_dim_ordering_tf_kernels_notop.h5\n",
            "58892288/58889256 [==============================] - 1s 0us/step\n",
            "WARNING:tensorflow:From /usr/local/lib/python3.6/dist-packages/keras/backend/tensorflow_backend.py:190: The name tf.get_default_session is deprecated. Please use tf.compat.v1.get_default_session instead.\n",
            "\n",
            "WARNING:tensorflow:From /usr/local/lib/python3.6/dist-packages/keras/backend/tensorflow_backend.py:197: The name tf.ConfigProto is deprecated. Please use tf.compat.v1.ConfigProto instead.\n",
            "\n",
            "WARNING:tensorflow:From /usr/local/lib/python3.6/dist-packages/keras/backend/tensorflow_backend.py:203: The name tf.Session is deprecated. Please use tf.compat.v1.Session instead.\n",
            "\n",
            "WARNING:tensorflow:From /usr/local/lib/python3.6/dist-packages/keras/backend/tensorflow_backend.py:207: The name tf.global_variables is deprecated. Please use tf.compat.v1.global_variables instead.\n",
            "\n",
            "WARNING:tensorflow:From /usr/local/lib/python3.6/dist-packages/keras/backend/tensorflow_backend.py:216: The name tf.is_variable_initialized is deprecated. Please use tf.compat.v1.is_variable_initialized instead.\n",
            "\n",
            "WARNING:tensorflow:From /usr/local/lib/python3.6/dist-packages/keras/backend/tensorflow_backend.py:223: The name tf.variables_initializer is deprecated. Please use tf.compat.v1.variables_initializer instead.\n",
            "\n"
          ],
          "name": "stdout"
        }
      ]
    },
    {
      "cell_type": "code",
      "metadata": {
        "id": "Q_rSdr5JPNco",
        "colab_type": "code",
        "outputId": "cc9bdb5d-66ba-43e0-d207-094f510f82e5",
        "colab": {
          "base_uri": "https://localhost:8080/",
          "height": 834
        }
      },
      "source": [
        "#畳み込み層の5層目のみを凍結解除\n",
        "conv_base.summary()\n",
        "conv_base.trainable = True\n",
        "\n",
        "set_trainable = False\n",
        "for layer in conv_base.layers:\n",
        "    if layer.name == 'block5_conv1':\n",
        "        set_trainable = True\n",
        "    if set_trainable:\n",
        "        layer.trainable = True\n",
        "    else:\n",
        "        layer.trainable = False\n",
        "\n"
      ],
      "execution_count": 0,
      "outputs": [
        {
          "output_type": "stream",
          "text": [
            "Model: \"vgg16\"\n",
            "_________________________________________________________________\n",
            "Layer (type)                 Output Shape              Param #   \n",
            "=================================================================\n",
            "input_1 (InputLayer)         (None, 150, 150, 3)       0         \n",
            "_________________________________________________________________\n",
            "block1_conv1 (Conv2D)        (None, 150, 150, 64)      1792      \n",
            "_________________________________________________________________\n",
            "block1_conv2 (Conv2D)        (None, 150, 150, 64)      36928     \n",
            "_________________________________________________________________\n",
            "block1_pool (MaxPooling2D)   (None, 75, 75, 64)        0         \n",
            "_________________________________________________________________\n",
            "block2_conv1 (Conv2D)        (None, 75, 75, 128)       73856     \n",
            "_________________________________________________________________\n",
            "block2_conv2 (Conv2D)        (None, 75, 75, 128)       147584    \n",
            "_________________________________________________________________\n",
            "block2_pool (MaxPooling2D)   (None, 37, 37, 128)       0         \n",
            "_________________________________________________________________\n",
            "block3_conv1 (Conv2D)        (None, 37, 37, 256)       295168    \n",
            "_________________________________________________________________\n",
            "block3_conv2 (Conv2D)        (None, 37, 37, 256)       590080    \n",
            "_________________________________________________________________\n",
            "block3_conv3 (Conv2D)        (None, 37, 37, 256)       590080    \n",
            "_________________________________________________________________\n",
            "block3_pool (MaxPooling2D)   (None, 18, 18, 256)       0         \n",
            "_________________________________________________________________\n",
            "block4_conv1 (Conv2D)        (None, 18, 18, 512)       1180160   \n",
            "_________________________________________________________________\n",
            "block4_conv2 (Conv2D)        (None, 18, 18, 512)       2359808   \n",
            "_________________________________________________________________\n",
            "block4_conv3 (Conv2D)        (None, 18, 18, 512)       2359808   \n",
            "_________________________________________________________________\n",
            "block4_pool (MaxPooling2D)   (None, 9, 9, 512)         0         \n",
            "_________________________________________________________________\n",
            "block5_conv1 (Conv2D)        (None, 9, 9, 512)         2359808   \n",
            "_________________________________________________________________\n",
            "block5_conv2 (Conv2D)        (None, 9, 9, 512)         2359808   \n",
            "_________________________________________________________________\n",
            "block5_conv3 (Conv2D)        (None, 9, 9, 512)         2359808   \n",
            "_________________________________________________________________\n",
            "block5_pool (MaxPooling2D)   (None, 4, 4, 512)         0         \n",
            "=================================================================\n",
            "Total params: 14,714,688\n",
            "Trainable params: 14,714,688\n",
            "Non-trainable params: 0\n",
            "_________________________________________________________________\n"
          ],
          "name": "stdout"
        }
      ]
    },
    {
      "cell_type": "code",
      "metadata": {
        "id": "iW15RD6sS95n",
        "colab_type": "code",
        "colab": {}
      },
      "source": [
        "#モデル確認\n",
        "from keras import models\n",
        "from keras import layers\n",
        "from keras.optimizers import Adam\n",
        "\n",
        "model=models.Sequential()\n",
        "model.add(conv_base)\n",
        "model.add(layers.Flatten())\n",
        "model.add(layers.Dense(256,activation='relu',input_dim=4*4*512))\n",
        "#model.add(layers.Dropout(0.2))\n",
        "model.add(layers.Dense(20,activation='softmax'))\n",
        "\n"
      ],
      "execution_count": 0,
      "outputs": []
    },
    {
      "cell_type": "code",
      "metadata": {
        "id": "L6RQ14RChJdA",
        "colab_type": "code",
        "outputId": "c0de3330-ee63-4af9-ecfe-11bfff0e4933",
        "colab": {
          "base_uri": "https://localhost:8080/",
          "height": 53
        }
      },
      "source": [
        "import os \n",
        "import numpy as np\n",
        "from keras.preprocessing.image import ImageDataGenerator\n",
        "import keras.preprocessing.image as Image\n",
        "\n",
        "\n",
        "#clsdir = \"/content/deeplearning/weed_type\"\n",
        "\n",
        "clsdir = \"/content/drive/My Drive/cluster0312\"\n",
        "\n",
        "\n",
        "\n",
        "datagen = Image.ImageDataGenerator(\n",
        "            featurewise_center = False,\n",
        "            samplewise_center = False,\n",
        "            featurewise_std_normalization = False,\n",
        "            samplewise_std_normalization = False,\n",
        "            zca_whitening = False,\n",
        "            rotation_range = 90,\n",
        "            width_shift_range = 0.3,\n",
        "            height_shift_range = 0.3,\n",
        "            horizontal_flip = True,\n",
        "            vertical_flip = False,\n",
        "            validation_split = 0.2,\n",
        "            rescale=1./255\n",
        "        )\n",
        "#validation_splitでtrainとvalidationの比率を変更できる。\n",
        "\n",
        "\n",
        "train_generator=datagen.flow_from_directory(\n",
        "            clsdir,\n",
        "            target_size=(150,150),\n",
        "            batch_size=20,\n",
        "            class_mode='categorical',\n",
        "            shuffle=True,\n",
        "            subset = \"training\"\n",
        "        )\n",
        "\n",
        "validation_generator = datagen.flow_from_directory(\n",
        "            clsdir,\n",
        "            target_size=(150,150 ),\n",
        "            batch_size=20,\n",
        "            class_mode='categorical',\n",
        "            shuffle=True,\n",
        "            subset = \"validation\"\n",
        "        )"
      ],
      "execution_count": 0,
      "outputs": [
        {
          "output_type": "stream",
          "text": [
            "Found 3129 images belonging to 20 classes.\n",
            "Found 775 images belonging to 20 classes.\n"
          ],
          "name": "stdout"
        }
      ]
    },
    {
      "cell_type": "code",
      "metadata": {
        "id": "Zo-JaoN0HiGW",
        "colab_type": "code",
        "outputId": "1c79c2b6-614a-4502-91e9-bc81fd631585",
        "colab": {
          "base_uri": "https://localhost:8080/",
          "height": 392
        }
      },
      "source": [
        "#モデルのコンパイル\n",
        "model.compile(optimizer=Adam(lr=1e-5),\n",
        "              loss='categorical_crossentropy',\n",
        "             metrics=['accuracy'])\n",
        "model.summary()\n"
      ],
      "execution_count": 0,
      "outputs": [
        {
          "output_type": "stream",
          "text": [
            "WARNING:tensorflow:From /usr/local/lib/python3.6/dist-packages/keras/optimizers.py:793: The name tf.train.Optimizer is deprecated. Please use tf.compat.v1.train.Optimizer instead.\n",
            "\n",
            "WARNING:tensorflow:From /usr/local/lib/python3.6/dist-packages/keras/backend/tensorflow_backend.py:3576: The name tf.log is deprecated. Please use tf.math.log instead.\n",
            "\n",
            "Model: \"sequential_1\"\n",
            "_________________________________________________________________\n",
            "Layer (type)                 Output Shape              Param #   \n",
            "=================================================================\n",
            "vgg16 (Model)                (None, 4, 4, 512)         14714688  \n",
            "_________________________________________________________________\n",
            "flatten_1 (Flatten)          (None, 8192)              0         \n",
            "_________________________________________________________________\n",
            "dense_1 (Dense)              (None, 256)               2097408   \n",
            "_________________________________________________________________\n",
            "dense_2 (Dense)              (None, 20)                5140      \n",
            "=================================================================\n",
            "Total params: 16,817,236\n",
            "Trainable params: 9,181,972\n",
            "Non-trainable params: 7,635,264\n",
            "_________________________________________________________________\n"
          ],
          "name": "stdout"
        }
      ]
    },
    {
      "cell_type": "code",
      "metadata": {
        "id": "zqjEJy82H3kt",
        "colab_type": "code",
        "outputId": "69898acc-000b-4d7a-adbd-82cb0051ac0c",
        "colab": {
          "base_uri": "https://localhost:8080/",
          "height": 1000
        }
      },
      "source": [
        "\n",
        "history = model.fit_generator(\n",
        "      train_generator,\n",
        "      steps_per_epoch=100,\n",
        "      epochs=100,\n",
        "      validation_data=validation_generator,\n",
        "      validation_steps=50)"
      ],
      "execution_count": 0,
      "outputs": [
        {
          "output_type": "stream",
          "text": [
            "WARNING:tensorflow:From /usr/local/lib/python3.6/dist-packages/tensorflow_core/python/ops/math_grad.py:1424: where (from tensorflow.python.ops.array_ops) is deprecated and will be removed in a future version.\n",
            "Instructions for updating:\n",
            "Use tf.where in 2.0, which has the same broadcast rule as np.where\n",
            "WARNING:tensorflow:From /usr/local/lib/python3.6/dist-packages/keras/backend/tensorflow_backend.py:1033: The name tf.assign_add is deprecated. Please use tf.compat.v1.assign_add instead.\n",
            "\n",
            "WARNING:tensorflow:From /usr/local/lib/python3.6/dist-packages/keras/backend/tensorflow_backend.py:1020: The name tf.assign is deprecated. Please use tf.compat.v1.assign instead.\n",
            "\n",
            "Epoch 1/100\n",
            "100/100 [==============================] - 923s 9s/step - loss: 2.8635 - acc: 0.1534 - val_loss: 2.5024 - val_acc: 0.2714\n",
            "Epoch 2/100\n",
            "100/100 [==============================] - 341s 3s/step - loss: 1.9558 - acc: 0.4240 - val_loss: 1.5826 - val_acc: 0.4824\n",
            "Epoch 3/100\n",
            "100/100 [==============================] - 25s 255ms/step - loss: 1.3234 - acc: 0.5712 - val_loss: 1.3795 - val_acc: 0.5377\n",
            "Epoch 4/100\n",
            "100/100 [==============================] - 25s 253ms/step - loss: 1.0297 - acc: 0.6622 - val_loss: 1.2088 - val_acc: 0.5687\n",
            "Epoch 5/100\n",
            "100/100 [==============================] - 25s 250ms/step - loss: 0.8838 - acc: 0.7150 - val_loss: 1.0397 - val_acc: 0.6412\n",
            "Epoch 6/100\n",
            "100/100 [==============================] - 25s 253ms/step - loss: 0.7504 - acc: 0.7585 - val_loss: 0.9925 - val_acc: 0.6563\n",
            "Epoch 7/100\n",
            "100/100 [==============================] - 25s 254ms/step - loss: 0.6997 - acc: 0.7655 - val_loss: 1.0122 - val_acc: 0.6462\n",
            "Epoch 8/100\n",
            "100/100 [==============================] - 26s 257ms/step - loss: 0.6738 - acc: 0.7704 - val_loss: 0.9288 - val_acc: 0.6798\n",
            "Epoch 9/100\n",
            "100/100 [==============================] - 25s 250ms/step - loss: 0.6019 - acc: 0.7933 - val_loss: 0.9295 - val_acc: 0.6834\n",
            "Epoch 10/100\n",
            "100/100 [==============================] - 26s 257ms/step - loss: 0.5341 - acc: 0.8210 - val_loss: 0.8453 - val_acc: 0.7256\n",
            "Epoch 11/100\n",
            "100/100 [==============================] - 25s 255ms/step - loss: 0.5424 - acc: 0.8187 - val_loss: 0.8237 - val_acc: 0.7061\n",
            "Epoch 12/100\n",
            "100/100 [==============================] - 25s 252ms/step - loss: 0.4963 - acc: 0.8270 - val_loss: 0.7866 - val_acc: 0.7276\n",
            "Epoch 13/100\n",
            "100/100 [==============================] - 25s 249ms/step - loss: 0.5083 - acc: 0.8249 - val_loss: 0.8154 - val_acc: 0.7337\n",
            "Epoch 14/100\n",
            "100/100 [==============================] - 26s 258ms/step - loss: 0.4534 - acc: 0.8485 - val_loss: 0.7641 - val_acc: 0.7508\n",
            "Epoch 15/100\n",
            "100/100 [==============================] - 26s 260ms/step - loss: 0.4417 - acc: 0.8481 - val_loss: 0.7334 - val_acc: 0.7495\n",
            "Epoch 16/100\n",
            "100/100 [==============================] - 25s 252ms/step - loss: 0.3999 - acc: 0.8655 - val_loss: 0.7646 - val_acc: 0.7618\n",
            "Epoch 17/100\n",
            "100/100 [==============================] - 26s 257ms/step - loss: 0.3805 - acc: 0.8699 - val_loss: 0.7306 - val_acc: 0.7427\n",
            "Epoch 18/100\n",
            "100/100 [==============================] - 25s 253ms/step - loss: 0.4028 - acc: 0.8570 - val_loss: 0.7996 - val_acc: 0.7313\n",
            "Epoch 19/100\n",
            "100/100 [==============================] - 25s 251ms/step - loss: 0.3816 - acc: 0.8734 - val_loss: 0.7563 - val_acc: 0.7427\n",
            "Epoch 20/100\n",
            "100/100 [==============================] - 25s 252ms/step - loss: 0.3496 - acc: 0.8820 - val_loss: 0.7795 - val_acc: 0.7437\n",
            "Epoch 21/100\n",
            "100/100 [==============================] - 25s 252ms/step - loss: 0.3671 - acc: 0.8675 - val_loss: 0.7419 - val_acc: 0.7678\n",
            "Epoch 22/100\n",
            "100/100 [==============================] - 26s 258ms/step - loss: 0.3684 - acc: 0.8749 - val_loss: 0.6185 - val_acc: 0.8091\n",
            "Epoch 23/100\n",
            "100/100 [==============================] - 25s 254ms/step - loss: 0.3075 - acc: 0.8945 - val_loss: 0.6115 - val_acc: 0.7960\n",
            "Epoch 24/100\n",
            "100/100 [==============================] - 25s 249ms/step - loss: 0.3175 - acc: 0.8949 - val_loss: 0.6108 - val_acc: 0.7859\n",
            "Epoch 25/100\n",
            "100/100 [==============================] - 26s 256ms/step - loss: 0.3068 - acc: 0.8944 - val_loss: 0.7267 - val_acc: 0.7626\n",
            "Epoch 26/100\n",
            "100/100 [==============================] - 26s 256ms/step - loss: 0.2939 - acc: 0.8944 - val_loss: 0.6125 - val_acc: 0.7920\n",
            "Epoch 27/100\n",
            "100/100 [==============================] - 26s 257ms/step - loss: 0.3028 - acc: 0.9050 - val_loss: 0.5539 - val_acc: 0.8090\n",
            "Epoch 28/100\n",
            "100/100 [==============================] - 25s 252ms/step - loss: 0.3092 - acc: 0.8880 - val_loss: 0.6083 - val_acc: 0.7849\n",
            "Epoch 29/100\n",
            "100/100 [==============================] - 26s 258ms/step - loss: 0.2724 - acc: 0.9050 - val_loss: 0.6315 - val_acc: 0.7960\n",
            "Epoch 30/100\n",
            "100/100 [==============================] - 25s 253ms/step - loss: 0.2719 - acc: 0.9105 - val_loss: 0.6064 - val_acc: 0.8040\n",
            "Epoch 31/100\n",
            "100/100 [==============================] - 25s 252ms/step - loss: 0.2725 - acc: 0.9065 - val_loss: 0.5860 - val_acc: 0.7990\n",
            "Epoch 32/100\n",
            "100/100 [==============================] - 25s 251ms/step - loss: 0.2593 - acc: 0.9090 - val_loss: 0.5372 - val_acc: 0.8253\n",
            "Epoch 33/100\n",
            "100/100 [==============================] - 25s 253ms/step - loss: 0.2340 - acc: 0.9190 - val_loss: 0.5773 - val_acc: 0.8080\n",
            "Epoch 34/100\n",
            "100/100 [==============================] - 25s 251ms/step - loss: 0.2556 - acc: 0.9089 - val_loss: 0.5599 - val_acc: 0.8101\n",
            "Epoch 35/100\n",
            "100/100 [==============================] - 25s 254ms/step - loss: 0.2310 - acc: 0.9205 - val_loss: 0.5403 - val_acc: 0.8161\n",
            "Epoch 36/100\n",
            "100/100 [==============================] - 26s 255ms/step - loss: 0.2507 - acc: 0.9107 - val_loss: 0.5975 - val_acc: 0.8131\n",
            "Epoch 37/100\n",
            "100/100 [==============================] - 25s 253ms/step - loss: 0.2195 - acc: 0.9268 - val_loss: 0.6134 - val_acc: 0.7960\n",
            "Epoch 38/100\n",
            "100/100 [==============================] - 25s 253ms/step - loss: 0.2483 - acc: 0.9145 - val_loss: 0.5964 - val_acc: 0.8080\n",
            "Epoch 39/100\n",
            "100/100 [==============================] - 26s 257ms/step - loss: 0.2179 - acc: 0.9255 - val_loss: 0.6200 - val_acc: 0.7980\n",
            "Epoch 40/100\n",
            "100/100 [==============================] - 25s 252ms/step - loss: 0.2172 - acc: 0.9170 - val_loss: 0.6823 - val_acc: 0.7960\n",
            "Epoch 41/100\n",
            "100/100 [==============================] - 26s 256ms/step - loss: 0.2427 - acc: 0.9100 - val_loss: 0.6740 - val_acc: 0.7789\n",
            "Epoch 42/100\n",
            "100/100 [==============================] - 25s 255ms/step - loss: 0.1902 - acc: 0.9380 - val_loss: 0.4824 - val_acc: 0.8382\n",
            "Epoch 43/100\n",
            "100/100 [==============================] - 25s 255ms/step - loss: 0.2015 - acc: 0.9325 - val_loss: 0.5116 - val_acc: 0.8293\n",
            "Epoch 44/100\n",
            "100/100 [==============================] - 25s 255ms/step - loss: 0.2059 - acc: 0.9309 - val_loss: 0.5038 - val_acc: 0.8271\n",
            "Epoch 45/100\n",
            "100/100 [==============================] - 26s 256ms/step - loss: 0.2042 - acc: 0.9295 - val_loss: 0.5556 - val_acc: 0.8241\n",
            "Epoch 46/100\n",
            "100/100 [==============================] - 25s 251ms/step - loss: 0.2104 - acc: 0.9309 - val_loss: 0.4862 - val_acc: 0.8402\n",
            "Epoch 47/100\n",
            "100/100 [==============================] - 26s 256ms/step - loss: 0.1985 - acc: 0.9307 - val_loss: 0.5576 - val_acc: 0.8192\n",
            "Epoch 48/100\n",
            "100/100 [==============================] - 26s 260ms/step - loss: 0.1742 - acc: 0.9444 - val_loss: 0.5098 - val_acc: 0.8412\n",
            "Epoch 49/100\n",
            "100/100 [==============================] - 25s 252ms/step - loss: 0.1738 - acc: 0.9430 - val_loss: 0.4935 - val_acc: 0.8623\n",
            "Epoch 50/100\n",
            "100/100 [==============================] - 25s 255ms/step - loss: 0.1706 - acc: 0.9385 - val_loss: 0.5111 - val_acc: 0.8232\n",
            "Epoch 51/100\n",
            "100/100 [==============================] - 25s 255ms/step - loss: 0.1549 - acc: 0.9495 - val_loss: 0.5431 - val_acc: 0.8352\n",
            "Epoch 52/100\n",
            "100/100 [==============================] - 25s 251ms/step - loss: 0.1909 - acc: 0.9345 - val_loss: 0.4830 - val_acc: 0.8422\n",
            "Epoch 53/100\n",
            "100/100 [==============================] - 26s 258ms/step - loss: 0.1743 - acc: 0.9398 - val_loss: 0.5018 - val_acc: 0.8362\n",
            "Epoch 54/100\n",
            "100/100 [==============================] - 26s 261ms/step - loss: 0.1805 - acc: 0.9390 - val_loss: 0.5234 - val_acc: 0.8455\n",
            "Epoch 55/100\n",
            "100/100 [==============================] - 25s 250ms/step - loss: 0.1815 - acc: 0.9395 - val_loss: 0.5695 - val_acc: 0.8121\n",
            "Epoch 56/100\n",
            "100/100 [==============================] - 25s 254ms/step - loss: 0.1577 - acc: 0.9515 - val_loss: 0.5180 - val_acc: 0.8362\n",
            "Epoch 57/100\n",
            "100/100 [==============================] - 26s 258ms/step - loss: 0.1700 - acc: 0.9399 - val_loss: 0.4449 - val_acc: 0.8586\n",
            "Epoch 58/100\n",
            "100/100 [==============================] - 25s 249ms/step - loss: 0.1593 - acc: 0.9490 - val_loss: 0.4427 - val_acc: 0.8452\n",
            "Epoch 59/100\n",
            "100/100 [==============================] - 26s 255ms/step - loss: 0.1442 - acc: 0.9505 - val_loss: 0.5044 - val_acc: 0.8553\n",
            "Epoch 60/100\n",
            "100/100 [==============================] - 25s 254ms/step - loss: 0.1518 - acc: 0.9540 - val_loss: 0.4925 - val_acc: 0.8593\n",
            "Epoch 61/100\n",
            "100/100 [==============================] - 26s 260ms/step - loss: 0.1489 - acc: 0.9465 - val_loss: 0.4955 - val_acc: 0.8394\n",
            "Epoch 62/100\n",
            "100/100 [==============================] - 25s 249ms/step - loss: 0.1440 - acc: 0.9515 - val_loss: 0.5777 - val_acc: 0.8231\n",
            "Epoch 63/100\n",
            "100/100 [==============================] - 25s 254ms/step - loss: 0.1420 - acc: 0.9479 - val_loss: 0.5821 - val_acc: 0.8121\n",
            "Epoch 64/100\n",
            "100/100 [==============================] - 25s 252ms/step - loss: 0.1482 - acc: 0.9475 - val_loss: 0.4366 - val_acc: 0.8455\n",
            "Epoch 65/100\n",
            "100/100 [==============================] - 25s 251ms/step - loss: 0.1382 - acc: 0.9565 - val_loss: 0.5889 - val_acc: 0.8211\n",
            "Epoch 66/100\n",
            "100/100 [==============================] - 25s 246ms/step - loss: 0.1235 - acc: 0.9589 - val_loss: 0.5161 - val_acc: 0.8573\n",
            "Epoch 67/100\n",
            "100/100 [==============================] - 25s 252ms/step - loss: 0.1395 - acc: 0.9585 - val_loss: 0.4643 - val_acc: 0.8543\n",
            "Epoch 68/100\n",
            "100/100 [==============================] - 26s 256ms/step - loss: 0.1531 - acc: 0.9410 - val_loss: 0.4413 - val_acc: 0.8525\n",
            "Epoch 69/100\n",
            "100/100 [==============================] - 25s 248ms/step - loss: 0.1267 - acc: 0.9589 - val_loss: 0.6005 - val_acc: 0.8402\n",
            "Epoch 70/100\n",
            "100/100 [==============================] - 26s 257ms/step - loss: 0.1345 - acc: 0.9515 - val_loss: 0.4976 - val_acc: 0.8302\n",
            "Epoch 71/100\n",
            "100/100 [==============================] - 25s 254ms/step - loss: 0.1405 - acc: 0.9530 - val_loss: 0.4813 - val_acc: 0.8525\n",
            "Epoch 72/100\n",
            "100/100 [==============================] - 25s 251ms/step - loss: 0.1212 - acc: 0.9580 - val_loss: 0.3596 - val_acc: 0.8884\n",
            "Epoch 73/100\n",
            "100/100 [==============================] - 25s 252ms/step - loss: 0.1194 - acc: 0.9555 - val_loss: 0.4138 - val_acc: 0.8653\n",
            "Epoch 74/100\n",
            "100/100 [==============================] - 25s 250ms/step - loss: 0.1213 - acc: 0.9585 - val_loss: 0.5330 - val_acc: 0.8191\n",
            "Epoch 75/100\n",
            "100/100 [==============================] - 26s 257ms/step - loss: 0.1249 - acc: 0.9550 - val_loss: 0.3775 - val_acc: 0.8667\n",
            "Epoch 76/100\n",
            "100/100 [==============================] - 26s 258ms/step - loss: 0.1058 - acc: 0.9685 - val_loss: 0.5769 - val_acc: 0.8402\n",
            "Epoch 77/100\n",
            "100/100 [==============================] - 26s 255ms/step - loss: 0.1350 - acc: 0.9515 - val_loss: 0.6201 - val_acc: 0.8171\n",
            "Epoch 78/100\n",
            "100/100 [==============================] - 26s 257ms/step - loss: 0.1425 - acc: 0.9528 - val_loss: 0.3822 - val_acc: 0.8768\n",
            "Epoch 79/100\n",
            "100/100 [==============================] - 25s 251ms/step - loss: 0.1138 - acc: 0.9650 - val_loss: 0.3844 - val_acc: 0.8764\n",
            "Epoch 80/100\n",
            "100/100 [==============================] - 24s 245ms/step - loss: 0.1286 - acc: 0.9510 - val_loss: 0.4470 - val_acc: 0.8653\n",
            "Epoch 81/100\n",
            "100/100 [==============================] - 26s 260ms/step - loss: 0.1146 - acc: 0.9614 - val_loss: 0.5316 - val_acc: 0.8432\n",
            "Epoch 82/100\n",
            "100/100 [==============================] - 26s 258ms/step - loss: 0.1196 - acc: 0.9595 - val_loss: 0.4542 - val_acc: 0.8545\n",
            "Epoch 83/100\n",
            "100/100 [==============================] - 25s 253ms/step - loss: 0.1012 - acc: 0.9655 - val_loss: 0.5082 - val_acc: 0.8442\n",
            "Epoch 84/100\n",
            "100/100 [==============================] - 25s 251ms/step - loss: 0.1061 - acc: 0.9665 - val_loss: 0.4699 - val_acc: 0.8583\n",
            "Epoch 85/100\n",
            "100/100 [==============================] - 26s 256ms/step - loss: 0.1027 - acc: 0.9650 - val_loss: 0.3676 - val_acc: 0.8714\n",
            "Epoch 86/100\n",
            "100/100 [==============================] - 26s 258ms/step - loss: 0.1034 - acc: 0.9640 - val_loss: 0.5325 - val_acc: 0.8323\n",
            "Epoch 87/100\n",
            "100/100 [==============================] - 25s 250ms/step - loss: 0.1182 - acc: 0.9560 - val_loss: 0.5194 - val_acc: 0.8402\n",
            "Epoch 88/100\n",
            "100/100 [==============================] - 25s 250ms/step - loss: 0.0973 - acc: 0.9680 - val_loss: 0.5255 - val_acc: 0.8432\n",
            "Epoch 89/100\n",
            "100/100 [==============================] - 26s 258ms/step - loss: 0.0972 - acc: 0.9635 - val_loss: 0.4406 - val_acc: 0.8778\n",
            "Epoch 90/100\n",
            "100/100 [==============================] - 25s 252ms/step - loss: 0.0938 - acc: 0.9649 - val_loss: 0.5091 - val_acc: 0.8462\n",
            "Epoch 91/100\n",
            "100/100 [==============================] - 24s 242ms/step - loss: 0.0854 - acc: 0.9705 - val_loss: 0.4024 - val_acc: 0.8834\n",
            "Epoch 92/100\n",
            "100/100 [==============================] - 26s 263ms/step - loss: 0.0774 - acc: 0.9740 - val_loss: 0.5195 - val_acc: 0.8653\n",
            "Epoch 93/100\n",
            "100/100 [==============================] - 25s 252ms/step - loss: 0.1094 - acc: 0.9630 - val_loss: 0.4691 - val_acc: 0.8636\n",
            "Epoch 94/100\n",
            "100/100 [==============================] - 25s 249ms/step - loss: 0.1007 - acc: 0.9619 - val_loss: 0.4080 - val_acc: 0.8764\n",
            "Epoch 95/100\n",
            "100/100 [==============================] - 25s 252ms/step - loss: 0.0951 - acc: 0.9720 - val_loss: 0.4320 - val_acc: 0.8784\n",
            "Epoch 96/100\n",
            "100/100 [==============================] - 25s 254ms/step - loss: 0.0833 - acc: 0.9695 - val_loss: 0.5141 - val_acc: 0.8535\n",
            "Epoch 97/100\n",
            "100/100 [==============================] - 25s 250ms/step - loss: 0.0985 - acc: 0.9655 - val_loss: 0.4566 - val_acc: 0.8744\n",
            "Epoch 98/100\n",
            "100/100 [==============================] - 25s 253ms/step - loss: 0.0839 - acc: 0.9710 - val_loss: 0.3523 - val_acc: 0.8894\n",
            "Epoch 99/100\n",
            "100/100 [==============================] - 25s 250ms/step - loss: 0.0936 - acc: 0.9675 - val_loss: 0.4252 - val_acc: 0.8784\n",
            "Epoch 100/100\n",
            "100/100 [==============================] - 26s 256ms/step - loss: 0.0862 - acc: 0.9700 - val_loss: 0.4773 - val_acc: 0.8768\n"
          ],
          "name": "stdout"
        }
      ]
    },
    {
      "cell_type": "code",
      "metadata": {
        "id": "akz-9FFVP-dN",
        "colab_type": "code",
        "outputId": "c324a946-738d-4e81-af35-d3c82d31f27a",
        "colab": {
          "base_uri": "https://localhost:8080/",
          "height": 545
        }
      },
      "source": [
        "import matplotlib.pyplot as plt\n",
        "\n",
        "acc=history.history['acc']\n",
        "val_acc=history.history['val_acc']\n",
        "loss=history.history['loss']\n",
        "val_loss=history.history['val_loss']\n",
        "\n",
        "epochs=range(1,len(acc)+1)\n",
        "\n",
        "#正解率plot\n",
        "plt.plot(epochs,acc,'bo',label='Training acc')\n",
        "plt.plot(epochs,val_acc,'b',label='Validation acc')\n",
        "plt.title('Training and validation accuracy')\n",
        "plt.legend()\n",
        "\n",
        "plt.figure()\n",
        "\n",
        "\n",
        "#損失値をplot\n",
        "plt.plot(epochs,loss,'bo',label='Training loss')\n",
        "plt.plot(epochs,val_loss,'b',label='Validation loss')\n",
        "plt.title('Training and validation loss')\n",
        "plt.legend()\n",
        "\n",
        "plt.show()\n"
      ],
      "execution_count": 0,
      "outputs": [
        {
          "output_type": "display_data",
          "data": {
            "image/png": "[encoded data removed]",
            "text/plain": [
              "<Figure size 432x288 with 1 Axes>"
            ]
          },
          "metadata": {
            "tags": []
          }
        },
        {
          "output_type": "display_data",
          "data": {
            "image/png": "[encoded data removed]",
            "text/plain": [
              "<Figure size 432x288 with 1 Axes>"
            ]
          },
          "metadata": {
            "tags": []
          }
        }
      ]
    },
    {
      "cell_type": "code",
      "metadata": {
        "id": "WmPt0A0ni848",
        "colab_type": "code",
        "colab": {}
      },
      "source": [
        "#モデルを保存するなら\n",
        "model.save('weed_type.h1')"
      ],
      "execution_count": 0,
      "outputs": []
    },
    {
      "cell_type": "code",
      "metadata": {
        "id": "C3SCpqweUlcW",
        "colab_type": "code",
        "colab": {}
      },
      "source": [
        "#ここ以降画像表示なので未実装\n",
        "model.load_weights('weed_type.h1')"
      ],
      "execution_count": 0,
      "outputs": []
    },
    {
      "cell_type": "code",
      "metadata": {
        "id": "Hyg64VS1Mr2e",
        "colab_type": "code",
        "colab": {}
      },
      "source": [
        "from PIL import Image\n",
        "\n",
        "img = Image.open(img_path2).convert('RGB') \n",
        "img = img.resize((150,150))\n",
        "x = np.array(img, dtype=np.float32)\n",
        "x = x / 255.\n",
        "\n",
        "x = x[None, ...]\n",
        "\n",
        "pred = model.predict(x, batch_size=1, verbose=0)\n",
        "score = np.max(pred)\n",
        "pred_label = np.argmax(pred)"
      ],
      "execution_count": 0,
      "outputs": []
    }
  ]
}