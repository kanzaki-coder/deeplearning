{
  "nbformat": 4,
  "nbformat_minor": 0,
  "metadata": {
    "colab": {
      "name": "weed_VGG16_fine-tuning",
      "provenance": [],
      "collapsed_sections": [],
      "toc_visible": true,
      "include_colab_link": true
    },
    "kernelspec": {
      "name": "python3",
      "display_name": "Python 3"
    },
    "accelerator": "GPU"
  },
  "cells": [
    {
      "cell_type": "markdown",
      "metadata": {
        "id": "view-in-github",
        "colab_type": "text"
      },
      "source": [
        "<a href=\"https://colab.research.google.com/github/kanzaki-coder/deeplearning/blob/master/weed_VGG16_fine_tuning.ipynb\" target=\"_parent\"><img src=\"https://colab.research.google.com/assets/colab-badge.svg\" alt=\"Open In Colab\"/></a>"
      ]
    },
    {
      "cell_type": "code",
      "metadata": {
        "id": "FS5nBLg3rUS5",
        "colab_type": "code",
        "outputId": "efac2338-6151-4bc7-eddd-65d6e6317625",
        "colab": {
          "base_uri": "https://localhost:8080/",
          "height": 159
        }
      },
      "source": [
        "#gitから回す用（本番）\n",
        "\n",
        "!git clone https://github.com/kanzaki-coder/deeplearning.git"
      ],
      "execution_count": 0,
      "outputs": [
        {
          "output_type": "stream",
          "text": [
            "Cloning into 'deeplearning'...\n",
            "remote: Enumerating objects: 10, done.\u001b[K\n",
            "remote: Counting objects: 100% (10/10), done.\u001b[K\n",
            "remote: Compressing objects: 100% (10/10), done.\u001b[K\n",
            "remote: Total 101 (delta 3), reused 0 (delta 0), pack-reused 91\u001b[K\n",
            "Receiving objects: 100% (101/101), 466.05 MiB | 13.18 MiB/s, done.\n",
            "Resolving deltas: 100% (38/38), done.\n",
            "Checking out files: 100% (25/25), done.\n"
          ],
          "name": "stdout"
        }
      ]
    },
    {
      "cell_type": "code",
      "metadata": {
        "id": "4VBcPQBAxOqt",
        "colab_type": "code",
        "outputId": "17dcbb8a-a9c3-45aa-afa4-a15776dcee73",
        "colab": {
          "base_uri": "https://localhost:8080/",
          "height": 53
        }
      },
      "source": [
        "#複数のzipを展開する場合はディレクトリを用意する必要がある。\n",
        "%cd /content/deeplearning\n",
        "!mkdir weed_type\n",
        "%cd /content/deeplearning/weed_type\n",
        "!mkdir ichibi\n",
        "!mkdir mameasagao\n",
        "!mkdir mehishiba\n",
        "!mkdir oinutade"
      ],
      "execution_count": 0,
      "outputs": [
        {
          "output_type": "stream",
          "text": [
            "/content/deeplearning\n",
            "/content/deeplearning/weed_type\n"
          ],
          "name": "stdout"
        }
      ]
    },
    {
      "cell_type": "code",
      "metadata": {
        "id": "d5m8jIYe9VhP",
        "colab_type": "code",
        "colab": {}
      },
      "source": [
        "#for文で回した方がいいかも？\n",
        "\n",
        "#各ディレクトリにzipファイルを展開\n",
        "%cd /content/deeplearning/weed_type/\n",
        "!unzip /content/deeplearning/hakidamegiku.zip\n",
        "\n",
        "%cd /content/deeplearning/weed_type/\n",
        "!unzip /content/deeplearning/hamasuge.zip\n",
        "\n",
        "%cd /content/deeplearning/weed_type/\n",
        "!unzip /content/deeplearning/hosoaogeitou.zip\n",
        "\n",
        "%cd /content/deeplearning/weed_type/ichibi\n",
        "!unzip /content/deeplearning/ichibi_1.zip\n",
        "!unzip /content/deeplearning/ichibi_2.zip\n",
        "!unzip /content/deeplearning/ichibi_3.zip\n",
        "!unzip /content/deeplearning/ichibi_4.zip\n",
        "!unzip /content/deeplearning/ichibi_5.zip\n",
        "!unzip /content/deeplearning/ichibi_6.zip\n",
        "\n",
        "%cd /content/deeplearning/weed_type/mameasagao\n",
        "!unzip /content/deeplearning/mameasagao_1.zip\n",
        "!unzip /content/deeplearning/mameasagao_2.zip\n",
        "!unzip /content/deeplearning/mameasagao_3.zip\n",
        "!unzip /content/deeplearning/mameasagao_4.zip\n",
        "!unzip /content/deeplearning/mameasagao_5.zip\n",
        "\n",
        "\n",
        "%cd /content/deeplearning/weed_type/mehishiba\n",
        "!unzip /content/deeplearning/mehishiba_1.zip\n",
        "!unzip /content/deeplearning/mehishiba_2.zip\n",
        "!unzip /content/deeplearning/mehishiba_3.zip\n",
        "!unzip /content/deeplearning/mehishiba_4.zip\n",
        "\n",
        "%cd /content/deeplearning/weed_type/\n",
        "!unzip /content/deeplearning/ohishiba.zip\n",
        "\n",
        "%cd /content/deeplearning/weed_type/oinutade\n",
        "!unzip /content/deeplearning/oinutade_1.zip\n",
        "!unzip /content/deeplearning/oinutade_2.zip\n",
        "\n",
        "\n",
        "%cd /content/deeplearning/weed_type/\n",
        "!unzip /content/deeplearning/shiroza.zip\n",
        "\n",
        "#本番用ここまで"
      ],
      "execution_count": 0,
      "outputs": []
    },
    {
      "cell_type": "code",
      "metadata": {
        "id": "0H32m4LLL0o3",
        "colab_type": "code",
        "outputId": "e150f346-3257-4aac-804a-ff5c95d2fd98",
        "colab": {
          "base_uri": "https://localhost:8080/",
          "height": 126
        }
      },
      "source": [
        "#ドライブでマウントする場合\n",
        "from google.colab import drive \n",
        "drive.mount('/content/drive')"
      ],
      "execution_count": 0,
      "outputs": [
        {
          "output_type": "stream",
          "text": [
            "Go to this URL in a browser: https://accounts.google.com/o/oauth2/auth?client_id=947318989803-6bn6qk8qdgf4n4g3pfee6491hc0brc4i.apps.googleusercontent.com&redirect_uri=urn%3aietf%3awg%3aoauth%3a2.0%3aoob&response_type=code&scope=email%20https%3a%2f%2fwww.googleapis.com%2fauth%2fdocs.test%20https%3a%2f%2fwww.googleapis.com%2fauth%2fdrive%20https%3a%2f%2fwww.googleapis.com%2fauth%2fdrive.photos.readonly%20https%3a%2f%2fwww.googleapis.com%2fauth%2fpeopleapi.readonly\n",
            "\n",
            "Enter your authorization code:\n",
            "··········\n",
            "Mounted at /content/drive\n"
          ],
          "name": "stdout"
        }
      ]
    },
    {
      "cell_type": "markdown",
      "metadata": {
        "id": "OZi2bu77bL5w",
        "colab_type": "text"
      },
      "source": [
        ""
      ]
    },
    {
      "cell_type": "code",
      "metadata": {
        "id": "fXPQr-AugkVz",
        "colab_type": "code",
        "outputId": "0985059f-4d82-4c8e-be45-e0a89002ef75",
        "colab": {
          "base_uri": "https://localhost:8080/",
          "height": 511
        }
      },
      "source": [
        "#VGG16を使うここから実行してOK\n",
        "from keras.applications import VGG16\n",
        "conv_base=VGG16(weights='imagenet',\n",
        "               include_top=False,\n",
        "               input_shape=(150,150,3))"
      ],
      "execution_count": 0,
      "outputs": [
        {
          "output_type": "stream",
          "text": [
            "Using TensorFlow backend.\n"
          ],
          "name": "stderr"
        },
        {
          "output_type": "display_data",
          "data": {
            "text/html": [
              "<p style=\"color: red;\">\n",
              "The default version of TensorFlow in Colab will soon switch to TensorFlow 2.x.<br>\n",
              "We recommend you <a href=\"https://www.tensorflow.org/guide/migrate\" target=\"_blank\">upgrade</a> now \n",
              "or ensure your notebook will continue to use TensorFlow 1.x via the <code>%tensorflow_version 1.x</code> magic:\n",
              "<a href=\"https://colab.research.google.com/notebooks/tensorflow_version.ipynb\" target=\"_blank\">more info</a>.</p>\n"
            ],
            "text/plain": [
              "<IPython.core.display.HTML object>"
            ]
          },
          "metadata": {
            "tags": []
          }
        },
        {
          "output_type": "stream",
          "text": [
            "WARNING:tensorflow:From /usr/local/lib/python3.6/dist-packages/keras/backend/tensorflow_backend.py:66: The name tf.get_default_graph is deprecated. Please use tf.compat.v1.get_default_graph instead.\n",
            "\n",
            "WARNING:tensorflow:From /usr/local/lib/python3.6/dist-packages/keras/backend/tensorflow_backend.py:541: The name tf.placeholder is deprecated. Please use tf.compat.v1.placeholder instead.\n",
            "\n",
            "WARNING:tensorflow:From /usr/local/lib/python3.6/dist-packages/keras/backend/tensorflow_backend.py:4432: The name tf.random_uniform is deprecated. Please use tf.random.uniform instead.\n",
            "\n",
            "WARNING:tensorflow:From /usr/local/lib/python3.6/dist-packages/keras/backend/tensorflow_backend.py:4267: The name tf.nn.max_pool is deprecated. Please use tf.nn.max_pool2d instead.\n",
            "\n",
            "Downloading data from https://github.com/fchollet/deep-learning-models/releases/download/v0.1/vgg16_weights_tf_dim_ordering_tf_kernels_notop.h5\n",
            "58892288/58889256 [==============================] - 1s 0us/step\n",
            "WARNING:tensorflow:From /usr/local/lib/python3.6/dist-packages/keras/backend/tensorflow_backend.py:190: The name tf.get_default_session is deprecated. Please use tf.compat.v1.get_default_session instead.\n",
            "\n",
            "WARNING:tensorflow:From /usr/local/lib/python3.6/dist-packages/keras/backend/tensorflow_backend.py:197: The name tf.ConfigProto is deprecated. Please use tf.compat.v1.ConfigProto instead.\n",
            "\n",
            "WARNING:tensorflow:From /usr/local/lib/python3.6/dist-packages/keras/backend/tensorflow_backend.py:203: The name tf.Session is deprecated. Please use tf.compat.v1.Session instead.\n",
            "\n",
            "WARNING:tensorflow:From /usr/local/lib/python3.6/dist-packages/keras/backend/tensorflow_backend.py:207: The name tf.global_variables is deprecated. Please use tf.compat.v1.global_variables instead.\n",
            "\n",
            "WARNING:tensorflow:From /usr/local/lib/python3.6/dist-packages/keras/backend/tensorflow_backend.py:216: The name tf.is_variable_initialized is deprecated. Please use tf.compat.v1.is_variable_initialized instead.\n",
            "\n",
            "WARNING:tensorflow:From /usr/local/lib/python3.6/dist-packages/keras/backend/tensorflow_backend.py:223: The name tf.variables_initializer is deprecated. Please use tf.compat.v1.variables_initializer instead.\n",
            "\n"
          ],
          "name": "stdout"
        }
      ]
    },
    {
      "cell_type": "code",
      "metadata": {
        "id": "vDfN0mYelEOr",
        "colab_type": "code",
        "outputId": "4ba0415c-8b80-4f11-bd6f-9347468b34fe",
        "colab": {
          "base_uri": "https://localhost:8080/",
          "height": 392
        }
      },
      "source": [
        "\n",
        "from keras import models\n",
        "from keras import layers\n",
        "from keras.optimizers import Adam\n",
        "\n",
        "model=models.Sequential()\n",
        "model.add(conv_base)\n",
        "model.add(layers.Flatten())\n",
        "model.add(layers.Dense(256,activation='relu',input_dim=4*4*512))\n",
        "#model.add(layers.Dropout(0.2))\n",
        "model.add(layers.Dense(9,activation='softmax'))\n",
        "conv_base.trainable=False\n",
        "model.compile(optimizer=Adam(lr=1e-3),\n",
        "              loss='categorical_crossentropy',\n",
        "             metrics=['accuracy'])\n",
        "model.summary()\n",
        "\n"
      ],
      "execution_count": 0,
      "outputs": [
        {
          "output_type": "stream",
          "text": [
            "WARNING:tensorflow:From /usr/local/lib/python3.6/dist-packages/keras/optimizers.py:793: The name tf.train.Optimizer is deprecated. Please use tf.compat.v1.train.Optimizer instead.\n",
            "\n",
            "WARNING:tensorflow:From /usr/local/lib/python3.6/dist-packages/keras/backend/tensorflow_backend.py:3576: The name tf.log is deprecated. Please use tf.math.log instead.\n",
            "\n",
            "Model: \"sequential_1\"\n",
            "_________________________________________________________________\n",
            "Layer (type)                 Output Shape              Param #   \n",
            "=================================================================\n",
            "vgg16 (Model)                (None, 4, 4, 512)         14714688  \n",
            "_________________________________________________________________\n",
            "flatten_1 (Flatten)          (None, 8192)              0         \n",
            "_________________________________________________________________\n",
            "dense_1 (Dense)              (None, 256)               2097408   \n",
            "_________________________________________________________________\n",
            "dense_2 (Dense)              (None, 9)                 2313      \n",
            "=================================================================\n",
            "Total params: 16,814,409\n",
            "Trainable params: 2,099,721\n",
            "Non-trainable params: 14,714,688\n",
            "_________________________________________________________________\n"
          ],
          "name": "stdout"
        }
      ]
    },
    {
      "cell_type": "markdown",
      "metadata": {
        "id": "WUfJfOM9KwMt",
        "colab_type": "text"
      },
      "source": [
        ""
      ]
    },
    {
      "cell_type": "code",
      "metadata": {
        "id": "Mh5VJqY8J-DE",
        "colab_type": "code",
        "outputId": "bc36b17c-922e-4c27-dc2a-f63090414871",
        "colab": {
          "base_uri": "https://localhost:8080/",
          "height": 53
        }
      },
      "source": [
        "import os \n",
        "import numpy as np\n",
        "from keras.preprocessing.image import ImageDataGenerator\n",
        "import keras.preprocessing.image as Image\n",
        "\n",
        "#clsdir = \"/content/deeplearning/weed_type\"\n",
        "clsdir = \"/content/drive/My Drive/cluster0309\"\n",
        "\n",
        "\n",
        "\n",
        "datagen = Image.ImageDataGenerator(\n",
        "            featurewise_center = False,\n",
        "            samplewise_center = False,\n",
        "            featurewise_std_normalization = False,\n",
        "            samplewise_std_normalization = False,\n",
        "            zca_whitening = False,\n",
        "            rotation_range = 90,\n",
        "            width_shift_range = 0.3,\n",
        "            height_shift_range = 0.3,\n",
        "            horizontal_flip = True,\n",
        "            vertical_flip = False,\n",
        "            validation_split = 0.2,\n",
        "            rescale=1./255\n",
        "        )\n",
        "\n",
        "train_generator=datagen.flow_from_directory(\n",
        "            clsdir,\n",
        "            target_size=(150,150),\n",
        "            batch_size=20,\n",
        "            class_mode='categorical',\n",
        "            shuffle=True,\n",
        "            subset = \"training\"\n",
        "        )\n",
        "\n",
        "validation_generator = datagen.flow_from_directory(\n",
        "            clsdir,\n",
        "            target_size=(150,150 ),\n",
        "            batch_size=20,\n",
        "            class_mode='categorical',\n",
        "            shuffle=True,\n",
        "            subset = \"validation\"\n",
        "        )\n"
      ],
      "execution_count": 0,
      "outputs": [
        {
          "output_type": "stream",
          "text": [
            "Found 6310 images belonging to 9 classes.\n",
            "Found 1575 images belonging to 9 classes.\n"
          ],
          "name": "stdout"
        }
      ]
    },
    {
      "cell_type": "code",
      "metadata": {
        "id": "28ZEH7JCKX53",
        "colab_type": "code",
        "colab": {}
      },
      "source": [
        "history=model.fit_generator(\n",
        "    train_generator,\n",
        "    steps_per_epoch=100,\n",
        "    epochs=100,\n",
        "    validation_data=validation_generator,\n",
        "    validation_steps=50\n",
        "    )"
      ],
      "execution_count": 0,
      "outputs": []
    },
    {
      "cell_type": "code",
      "metadata": {
        "id": "6rkuUE_FO7t4",
        "colab_type": "code",
        "outputId": "e3578b22-f485-412d-9bae-1f5a7bcd1c91",
        "colab": {
          "base_uri": "https://localhost:8080/",
          "height": 545
        }
      },
      "source": [
        "import matplotlib.pyplot as plt\n",
        "\n",
        "acc=history.history['acc']\n",
        "val_acc=history.history['val_acc']\n",
        "loss=history.history['loss']\n",
        "val_loss=history.history['val_loss']\n",
        "\n",
        "epochs=range(1,len(acc)+1)\n",
        "\n",
        "#正解率plot\n",
        "plt.plot(epochs,acc,'bo',label='Training acc')\n",
        "plt.plot(epochs,val_acc,'b',label='Validation acc')\n",
        "plt.title('Training and validation accuracy')\n",
        "plt.legend()\n",
        "\n",
        "plt.figure()\n",
        "\n",
        "\n",
        "#損失値をplot\n",
        "plt.plot(epochs,loss,'bo',label='Training loss')\n",
        "plt.plot(epochs,val_loss,'b',label='Validation loss')\n",
        "plt.title('Training and validation loss')\n",
        "plt.legend()\n",
        "\n",
        "plt.show()\n"
      ],
      "execution_count": 0,
      "outputs": [
        {
          "output_type": "display_data",
          "data": {
            "image/png": "[encoded data removed]",
            "text/plain": [
              "<Figure size 432x288 with 1 Axes>"
            ]
          },
          "metadata": {
            "tags": []
          }
        },
        {
          "output_type": "display_data",
          "data": {
            "image/png": "[encoded data removed]",
            "text/plain": [
              "<Figure size 432x288 with 1 Axes>"
            ]
          },
          "metadata": {
            "tags": []
          }
        }
      ]
    },
    {
      "cell_type": "code",
      "metadata": {
        "id": "6hJx4G-tSNA5",
        "colab_type": "code",
        "colab": {}
      },
      "source": [
        ""
      ],
      "execution_count": 0,
      "outputs": []
    },
    {
      "cell_type": "code",
      "metadata": {
        "id": "pplRP7vvg4BR",
        "colab_type": "code",
        "colab": {}
      },
      "source": [
        "#ここからファインチューニング（VGG16をダウンロード）\n",
        "from keras.applications import VGG16\n",
        "conv_base=VGG16(weights='imagenet',\n",
        "               include_top=False,\n",
        "               input_shape=(150,150,3))"
      ],
      "execution_count": 0,
      "outputs": []
    },
    {
      "cell_type": "code",
      "metadata": {
        "id": "Q_rSdr5JPNco",
        "colab_type": "code",
        "outputId": "c7df6963-fd54-4b26-9019-5ab6e8791450",
        "colab": {
          "base_uri": "https://localhost:8080/",
          "height": 834
        }
      },
      "source": [
        "#畳み込み層の5層目のみを凍結解除\n",
        "conv_base.summary()\n",
        "conv_base.trainable = True\n",
        "\n",
        "set_trainable = False\n",
        "for layer in conv_base.layers:\n",
        "    if layer.name == 'block5_conv1':\n",
        "        set_trainable = True\n",
        "    if set_trainable:\n",
        "        layer.trainable = True\n",
        "    else:\n",
        "        layer.trainable = False\n",
        "\n"
      ],
      "execution_count": 0,
      "outputs": [
        {
          "output_type": "stream",
          "text": [
            "Model: \"vgg16\"\n",
            "_________________________________________________________________\n",
            "Layer (type)                 Output Shape              Param #   \n",
            "=================================================================\n",
            "input_2 (InputLayer)         (None, 150, 150, 3)       0         \n",
            "_________________________________________________________________\n",
            "block1_conv1 (Conv2D)        (None, 150, 150, 64)      1792      \n",
            "_________________________________________________________________\n",
            "block1_conv2 (Conv2D)        (None, 150, 150, 64)      36928     \n",
            "_________________________________________________________________\n",
            "block1_pool (MaxPooling2D)   (None, 75, 75, 64)        0         \n",
            "_________________________________________________________________\n",
            "block2_conv1 (Conv2D)        (None, 75, 75, 128)       73856     \n",
            "_________________________________________________________________\n",
            "block2_conv2 (Conv2D)        (None, 75, 75, 128)       147584    \n",
            "_________________________________________________________________\n",
            "block2_pool (MaxPooling2D)   (None, 37, 37, 128)       0         \n",
            "_________________________________________________________________\n",
            "block3_conv1 (Conv2D)        (None, 37, 37, 256)       295168    \n",
            "_________________________________________________________________\n",
            "block3_conv2 (Conv2D)        (None, 37, 37, 256)       590080    \n",
            "_________________________________________________________________\n",
            "block3_conv3 (Conv2D)        (None, 37, 37, 256)       590080    \n",
            "_________________________________________________________________\n",
            "block3_pool (MaxPooling2D)   (None, 18, 18, 256)       0         \n",
            "_________________________________________________________________\n",
            "block4_conv1 (Conv2D)        (None, 18, 18, 512)       1180160   \n",
            "_________________________________________________________________\n",
            "block4_conv2 (Conv2D)        (None, 18, 18, 512)       2359808   \n",
            "_________________________________________________________________\n",
            "block4_conv3 (Conv2D)        (None, 18, 18, 512)       2359808   \n",
            "_________________________________________________________________\n",
            "block4_pool (MaxPooling2D)   (None, 9, 9, 512)         0         \n",
            "_________________________________________________________________\n",
            "block5_conv1 (Conv2D)        (None, 9, 9, 512)         2359808   \n",
            "_________________________________________________________________\n",
            "block5_conv2 (Conv2D)        (None, 9, 9, 512)         2359808   \n",
            "_________________________________________________________________\n",
            "block5_conv3 (Conv2D)        (None, 9, 9, 512)         2359808   \n",
            "_________________________________________________________________\n",
            "block5_pool (MaxPooling2D)   (None, 4, 4, 512)         0         \n",
            "=================================================================\n",
            "Total params: 14,714,688\n",
            "Trainable params: 14,714,688\n",
            "Non-trainable params: 0\n",
            "_________________________________________________________________\n"
          ],
          "name": "stdout"
        }
      ]
    },
    {
      "cell_type": "code",
      "metadata": {
        "id": "iW15RD6sS95n",
        "colab_type": "code",
        "colab": {}
      },
      "source": [
        "#モデル確認\n",
        "from keras import models\n",
        "from keras import layers\n",
        "from keras.optimizers import Adam\n",
        "\n",
        "model=models.Sequential()\n",
        "model.add(conv_base)\n",
        "model.add(layers.Flatten())\n",
        "model.add(layers.Dense(256,activation='relu',input_dim=4*4*512))\n",
        "#model.add(layers.Dropout(0.2))\n",
        "model.add(layers.Dense(9,activation='softmax'))\n",
        "\n"
      ],
      "execution_count": 0,
      "outputs": []
    },
    {
      "cell_type": "code",
      "metadata": {
        "id": "L6RQ14RChJdA",
        "colab_type": "code",
        "outputId": "d84d4c30-7d5c-46e6-8535-55fdd654a727",
        "colab": {
          "base_uri": "https://localhost:8080/",
          "height": 53
        }
      },
      "source": [
        "import os \n",
        "import numpy as np\n",
        "from keras.preprocessing.image import ImageDataGenerator\n",
        "import keras.preprocessing.image as Image\n",
        "\n",
        "\n",
        "#clsdir = \"/content/deeplearning/weed_type\"\n",
        "\n",
        "clsdir = \"/content/drive/My Drive/cluster0309\"\n",
        "\n",
        "\n",
        "\n",
        "datagen = Image.ImageDataGenerator(\n",
        "            featurewise_center = False,\n",
        "            samplewise_center = False,\n",
        "            featurewise_std_normalization = False,\n",
        "            samplewise_std_normalization = False,\n",
        "            zca_whitening = False,\n",
        "            rotation_range = 90,\n",
        "            width_shift_range = 0.3,\n",
        "            height_shift_range = 0.3,\n",
        "            horizontal_flip = True,\n",
        "            vertical_flip = False,\n",
        "            validation_split = 0.2,\n",
        "            rescale=1./255\n",
        "        )\n",
        "#validation_splitでtrainとvalidationの比率を変更できる。\n",
        "\n",
        "\n",
        "train_generator=datagen.flow_from_directory(\n",
        "            clsdir,\n",
        "            target_size=(150,150),\n",
        "            batch_size=20,\n",
        "            class_mode='categorical',\n",
        "            shuffle=True,\n",
        "            subset = \"training\"\n",
        "        )\n",
        "\n",
        "validation_generator = datagen.flow_from_directory(\n",
        "            clsdir,\n",
        "            target_size=(150,150 ),\n",
        "            batch_size=20,\n",
        "            class_mode='categorical',\n",
        "            shuffle=True,\n",
        "            subset = \"validation\"\n",
        "        )"
      ],
      "execution_count": 0,
      "outputs": [
        {
          "output_type": "stream",
          "text": [
            "Found 6310 images belonging to 9 classes.\n",
            "Found 1575 images belonging to 9 classes.\n"
          ],
          "name": "stdout"
        }
      ]
    },
    {
      "cell_type": "code",
      "metadata": {
        "id": "Zo-JaoN0HiGW",
        "colab_type": "code",
        "outputId": "86c97928-ee30-45ea-92a1-8a129082f57f",
        "colab": {
          "base_uri": "https://localhost:8080/",
          "height": 301
        }
      },
      "source": [
        "#モデルのコンパイル\n",
        "model.compile(optimizer=Adam(lr=1e-5),\n",
        "              loss='categorical_crossentropy',\n",
        "             metrics=['accuracy'])\n",
        "model.summary()\n"
      ],
      "execution_count": 0,
      "outputs": [
        {
          "output_type": "stream",
          "text": [
            "Model: \"sequential_2\"\n",
            "_________________________________________________________________\n",
            "Layer (type)                 Output Shape              Param #   \n",
            "=================================================================\n",
            "vgg16 (Model)                (None, 4, 4, 512)         14714688  \n",
            "_________________________________________________________________\n",
            "flatten_2 (Flatten)          (None, 8192)              0         \n",
            "_________________________________________________________________\n",
            "dense_3 (Dense)              (None, 256)               2097408   \n",
            "_________________________________________________________________\n",
            "dense_4 (Dense)              (None, 9)                 2313      \n",
            "=================================================================\n",
            "Total params: 16,814,409\n",
            "Trainable params: 9,179,145\n",
            "Non-trainable params: 7,635,264\n",
            "_________________________________________________________________\n"
          ],
          "name": "stdout"
        }
      ]
    },
    {
      "cell_type": "code",
      "metadata": {
        "id": "zqjEJy82H3kt",
        "colab_type": "code",
        "outputId": "c2fa7912-f3b3-4d51-c8b4-0140da4cf1f9",
        "colab": {
          "base_uri": "https://localhost:8080/",
          "height": 1000
        }
      },
      "source": [
        "\n",
        "history = model.fit_generator(\n",
        "      train_generator,\n",
        "      steps_per_epoch=100,\n",
        "      epochs=100,\n",
        "      validation_data=validation_generator,\n",
        "      validation_steps=50)"
      ],
      "execution_count": 0,
      "outputs": [
        {
          "output_type": "stream",
          "text": [
            "WARNING:tensorflow:From /usr/local/lib/python3.6/dist-packages/tensorflow_core/python/ops/math_grad.py:1424: where (from tensorflow.python.ops.array_ops) is deprecated and will be removed in a future version.\n",
            "Instructions for updating:\n",
            "Use tf.where in 2.0, which has the same broadcast rule as np.where\n",
            "WARNING:tensorflow:From /usr/local/lib/python3.6/dist-packages/keras/backend/tensorflow_backend.py:1033: The name tf.assign_add is deprecated. Please use tf.compat.v1.assign_add instead.\n",
            "\n",
            "WARNING:tensorflow:From /usr/local/lib/python3.6/dist-packages/keras/backend/tensorflow_backend.py:1020: The name tf.assign is deprecated. Please use tf.compat.v1.assign instead.\n",
            "\n",
            "Epoch 1/100\n",
            "100/100 [==============================] - 1006s 10s/step - loss: 1.8244 - acc: 0.3455 - val_loss: 1.6090 - val_acc: 0.4360\n",
            "Epoch 2/100\n",
            "100/100 [==============================] - 757s 8s/step - loss: 1.2524 - acc: 0.5645 - val_loss: 1.1825 - val_acc: 0.5648\n",
            "Epoch 3/100\n",
            "100/100 [==============================] - 654s 7s/step - loss: 0.9742 - acc: 0.6445 - val_loss: 1.1154 - val_acc: 0.5860\n",
            "Epoch 4/100\n",
            "100/100 [==============================] - 130s 1s/step - loss: 0.7718 - acc: 0.7335 - val_loss: 0.9079 - val_acc: 0.6492\n",
            "Epoch 5/100\n",
            "100/100 [==============================] - 26s 256ms/step - loss: 0.6392 - acc: 0.7790 - val_loss: 0.8284 - val_acc: 0.6824\n",
            "Epoch 6/100\n",
            "100/100 [==============================] - 26s 259ms/step - loss: 0.5802 - acc: 0.7965 - val_loss: 0.8435 - val_acc: 0.6690\n",
            "Epoch 7/100\n",
            "100/100 [==============================] - 26s 261ms/step - loss: 0.5496 - acc: 0.7970 - val_loss: 0.7829 - val_acc: 0.7126\n",
            "Epoch 8/100\n",
            "100/100 [==============================] - 26s 256ms/step - loss: 0.4773 - acc: 0.8350 - val_loss: 0.7545 - val_acc: 0.7116\n",
            "Epoch 9/100\n",
            "100/100 [==============================] - 25s 255ms/step - loss: 0.4706 - acc: 0.8385 - val_loss: 0.7210 - val_acc: 0.7380\n",
            "Epoch 10/100\n",
            "100/100 [==============================] - 26s 257ms/step - loss: 0.4421 - acc: 0.8400 - val_loss: 0.7376 - val_acc: 0.7276\n",
            "Epoch 11/100\n",
            "100/100 [==============================] - 26s 257ms/step - loss: 0.4387 - acc: 0.8475 - val_loss: 0.6600 - val_acc: 0.7470\n",
            "Epoch 12/100\n",
            "100/100 [==============================] - 26s 264ms/step - loss: 0.4148 - acc: 0.8475 - val_loss: 0.6948 - val_acc: 0.7387\n",
            "Epoch 13/100\n",
            "100/100 [==============================] - 26s 257ms/step - loss: 0.3736 - acc: 0.8670 - val_loss: 0.7768 - val_acc: 0.7156\n",
            "Epoch 14/100\n",
            "100/100 [==============================] - 25s 254ms/step - loss: 0.3838 - acc: 0.8665 - val_loss: 0.6136 - val_acc: 0.7750\n",
            "Epoch 15/100\n",
            "100/100 [==============================] - 26s 255ms/step - loss: 0.3565 - acc: 0.8760 - val_loss: 0.6690 - val_acc: 0.7437\n",
            "Epoch 16/100\n",
            "100/100 [==============================] - 26s 256ms/step - loss: 0.3639 - acc: 0.8745 - val_loss: 0.6370 - val_acc: 0.7739\n",
            "Epoch 17/100\n",
            "100/100 [==============================] - 26s 257ms/step - loss: 0.3252 - acc: 0.8815 - val_loss: 0.5561 - val_acc: 0.7970\n",
            "Epoch 18/100\n",
            "100/100 [==============================] - 25s 254ms/step - loss: 0.3528 - acc: 0.8745 - val_loss: 0.6445 - val_acc: 0.7578\n",
            "Epoch 19/100\n",
            "100/100 [==============================] - 26s 258ms/step - loss: 0.2855 - acc: 0.9075 - val_loss: 0.5756 - val_acc: 0.7889\n",
            "Epoch 20/100\n",
            "100/100 [==============================] - 25s 254ms/step - loss: 0.3026 - acc: 0.8900 - val_loss: 0.5309 - val_acc: 0.8050\n",
            "Epoch 21/100\n",
            "100/100 [==============================] - 25s 254ms/step - loss: 0.2942 - acc: 0.8935 - val_loss: 0.5342 - val_acc: 0.7910\n",
            "Epoch 22/100\n",
            "100/100 [==============================] - 26s 258ms/step - loss: 0.2834 - acc: 0.8985 - val_loss: 0.5192 - val_acc: 0.7990\n",
            "Epoch 23/100\n",
            "100/100 [==============================] - 26s 259ms/step - loss: 0.2787 - acc: 0.9055 - val_loss: 0.6288 - val_acc: 0.7678\n",
            "Epoch 24/100\n",
            "100/100 [==============================] - 26s 263ms/step - loss: 0.2812 - acc: 0.9015 - val_loss: 0.6683 - val_acc: 0.7618\n",
            "Epoch 25/100\n",
            "100/100 [==============================] - 26s 257ms/step - loss: 0.2854 - acc: 0.8970 - val_loss: 0.4944 - val_acc: 0.8000\n",
            "Epoch 26/100\n",
            "100/100 [==============================] - 26s 257ms/step - loss: 0.2659 - acc: 0.9095 - val_loss: 0.4905 - val_acc: 0.8181\n",
            "Epoch 27/100\n",
            "100/100 [==============================] - 25s 255ms/step - loss: 0.2610 - acc: 0.9125 - val_loss: 0.4398 - val_acc: 0.8362\n",
            "Epoch 28/100\n",
            "100/100 [==============================] - 26s 258ms/step - loss: 0.2387 - acc: 0.9195 - val_loss: 0.5229 - val_acc: 0.8160\n",
            "Epoch 29/100\n",
            "100/100 [==============================] - 26s 260ms/step - loss: 0.2474 - acc: 0.9175 - val_loss: 0.5646 - val_acc: 0.7899\n",
            "Epoch 30/100\n",
            "100/100 [==============================] - 26s 262ms/step - loss: 0.2444 - acc: 0.9145 - val_loss: 0.4710 - val_acc: 0.8260\n",
            "Epoch 31/100\n",
            "100/100 [==============================] - 27s 267ms/step - loss: 0.2306 - acc: 0.9170 - val_loss: 0.4838 - val_acc: 0.8131\n",
            "Epoch 32/100\n",
            "100/100 [==============================] - 26s 263ms/step - loss: 0.2207 - acc: 0.9180 - val_loss: 0.5320 - val_acc: 0.8101\n",
            "Epoch 33/100\n",
            "100/100 [==============================] - 26s 261ms/step - loss: 0.2394 - acc: 0.9220 - val_loss: 0.4566 - val_acc: 0.8270\n",
            "Epoch 34/100\n",
            "100/100 [==============================] - 27s 267ms/step - loss: 0.2412 - acc: 0.9130 - val_loss: 0.4839 - val_acc: 0.8241\n",
            "Epoch 35/100\n",
            "100/100 [==============================] - 26s 263ms/step - loss: 0.2195 - acc: 0.9275 - val_loss: 0.5088 - val_acc: 0.8332\n",
            "Epoch 36/100\n",
            "100/100 [==============================] - 26s 264ms/step - loss: 0.2316 - acc: 0.9200 - val_loss: 0.5347 - val_acc: 0.8030\n",
            "Epoch 37/100\n",
            "100/100 [==============================] - 26s 261ms/step - loss: 0.1985 - acc: 0.9355 - val_loss: 0.4277 - val_acc: 0.8402\n",
            "Epoch 38/100\n",
            "100/100 [==============================] - 26s 260ms/step - loss: 0.2283 - acc: 0.9200 - val_loss: 0.4045 - val_acc: 0.8402\n",
            "Epoch 39/100\n",
            "100/100 [==============================] - 26s 263ms/step - loss: 0.1725 - acc: 0.9400 - val_loss: 0.4566 - val_acc: 0.8320\n",
            "Epoch 40/100\n",
            "100/100 [==============================] - 26s 261ms/step - loss: 0.2104 - acc: 0.9235 - val_loss: 0.4110 - val_acc: 0.8503\n",
            "Epoch 41/100\n",
            "100/100 [==============================] - 26s 256ms/step - loss: 0.1923 - acc: 0.9355 - val_loss: 0.4641 - val_acc: 0.8380\n",
            "Epoch 42/100\n",
            "100/100 [==============================] - 27s 268ms/step - loss: 0.1970 - acc: 0.9310 - val_loss: 0.4746 - val_acc: 0.8402\n",
            "Epoch 43/100\n",
            "100/100 [==============================] - 27s 265ms/step - loss: 0.1880 - acc: 0.9360 - val_loss: 0.4269 - val_acc: 0.8503\n",
            "Epoch 44/100\n",
            "100/100 [==============================] - 26s 259ms/step - loss: 0.1893 - acc: 0.9285 - val_loss: 0.5207 - val_acc: 0.8250\n",
            "Epoch 45/100\n",
            "100/100 [==============================] - 26s 258ms/step - loss: 0.1865 - acc: 0.9360 - val_loss: 0.3856 - val_acc: 0.8613\n",
            "Epoch 46/100\n",
            "100/100 [==============================] - 26s 260ms/step - loss: 0.1765 - acc: 0.9400 - val_loss: 0.3575 - val_acc: 0.8673\n",
            "Epoch 47/100\n",
            "100/100 [==============================] - 26s 258ms/step - loss: 0.1929 - acc: 0.9260 - val_loss: 0.4589 - val_acc: 0.8210\n",
            "Epoch 48/100\n",
            "100/100 [==============================] - 26s 263ms/step - loss: 0.2124 - acc: 0.9290 - val_loss: 0.3709 - val_acc: 0.8613\n",
            "Epoch 49/100\n",
            "100/100 [==============================] - 26s 256ms/step - loss: 0.1739 - acc: 0.9400 - val_loss: 0.4425 - val_acc: 0.8412\n",
            "Epoch 50/100\n",
            "100/100 [==============================] - 26s 261ms/step - loss: 0.1768 - acc: 0.9390 - val_loss: 0.3817 - val_acc: 0.8670\n",
            "Epoch 51/100\n",
            "100/100 [==============================] - 26s 258ms/step - loss: 0.1642 - acc: 0.9405 - val_loss: 0.4033 - val_acc: 0.8633\n",
            "Epoch 52/100\n",
            "100/100 [==============================] - 26s 257ms/step - loss: 0.1516 - acc: 0.9445 - val_loss: 0.4111 - val_acc: 0.8470\n",
            "Epoch 53/100\n",
            "100/100 [==============================] - 26s 263ms/step - loss: 0.1749 - acc: 0.9365 - val_loss: 0.4134 - val_acc: 0.8553\n",
            "Epoch 54/100\n",
            "100/100 [==============================] - 26s 259ms/step - loss: 0.1848 - acc: 0.9305 - val_loss: 0.4419 - val_acc: 0.8412\n",
            "Epoch 55/100\n",
            "100/100 [==============================] - 26s 260ms/step - loss: 0.1718 - acc: 0.9380 - val_loss: 0.3744 - val_acc: 0.8670\n",
            "Epoch 56/100\n",
            "100/100 [==============================] - 26s 259ms/step - loss: 0.1605 - acc: 0.9475 - val_loss: 0.4254 - val_acc: 0.8503\n",
            "Epoch 57/100\n",
            "100/100 [==============================] - 26s 258ms/step - loss: 0.1741 - acc: 0.9395 - val_loss: 0.2989 - val_acc: 0.8854\n",
            "Epoch 58/100\n",
            "100/100 [==============================] - 26s 259ms/step - loss: 0.1690 - acc: 0.9410 - val_loss: 0.3480 - val_acc: 0.8640\n",
            "Epoch 59/100\n",
            "100/100 [==============================] - 26s 259ms/step - loss: 0.1855 - acc: 0.9375 - val_loss: 0.3401 - val_acc: 0.8613\n",
            "Epoch 60/100\n",
            "100/100 [==============================] - 25s 251ms/step - loss: 0.1561 - acc: 0.9435 - val_loss: 0.3339 - val_acc: 0.8790\n",
            "Epoch 61/100\n",
            "100/100 [==============================] - 27s 274ms/step - loss: 0.1635 - acc: 0.9375 - val_loss: 0.4296 - val_acc: 0.8402\n",
            "Epoch 62/100\n",
            "100/100 [==============================] - 26s 257ms/step - loss: 0.1336 - acc: 0.9515 - val_loss: 0.4726 - val_acc: 0.8462\n",
            "Epoch 63/100\n",
            "100/100 [==============================] - 26s 256ms/step - loss: 0.1607 - acc: 0.9455 - val_loss: 0.4145 - val_acc: 0.8410\n",
            "Epoch 64/100\n",
            "100/100 [==============================] - 26s 263ms/step - loss: 0.1745 - acc: 0.9450 - val_loss: 0.3446 - val_acc: 0.8804\n",
            "Epoch 65/100\n",
            "100/100 [==============================] - 26s 260ms/step - loss: 0.1622 - acc: 0.9425 - val_loss: 0.4171 - val_acc: 0.8452\n",
            "Epoch 66/100\n",
            "100/100 [==============================] - 26s 259ms/step - loss: 0.1464 - acc: 0.9475 - val_loss: 0.2973 - val_acc: 0.8850\n",
            "Epoch 67/100\n",
            "100/100 [==============================] - 26s 261ms/step - loss: 0.1288 - acc: 0.9540 - val_loss: 0.3601 - val_acc: 0.8774\n",
            "Epoch 68/100\n",
            "100/100 [==============================] - 26s 257ms/step - loss: 0.1352 - acc: 0.9555 - val_loss: 0.3660 - val_acc: 0.8553\n",
            "Epoch 69/100\n",
            "100/100 [==============================] - 26s 259ms/step - loss: 0.1370 - acc: 0.9580 - val_loss: 0.3622 - val_acc: 0.8680\n",
            "Epoch 70/100\n",
            "100/100 [==============================] - 26s 256ms/step - loss: 0.1516 - acc: 0.9460 - val_loss: 0.3444 - val_acc: 0.8844\n",
            "Epoch 71/100\n",
            "100/100 [==============================] - 26s 259ms/step - loss: 0.1400 - acc: 0.9490 - val_loss: 0.3354 - val_acc: 0.8790\n",
            "Epoch 72/100\n",
            "100/100 [==============================] - 26s 258ms/step - loss: 0.1377 - acc: 0.9545 - val_loss: 0.3743 - val_acc: 0.8683\n",
            "Epoch 73/100\n",
            "100/100 [==============================] - 26s 260ms/step - loss: 0.1494 - acc: 0.9430 - val_loss: 0.3338 - val_acc: 0.8693\n",
            "Epoch 74/100\n",
            "100/100 [==============================] - 26s 256ms/step - loss: 0.1146 - acc: 0.9610 - val_loss: 0.3306 - val_acc: 0.8840\n",
            "Epoch 75/100\n",
            "100/100 [==============================] - 26s 257ms/step - loss: 0.1320 - acc: 0.9510 - val_loss: 0.3943 - val_acc: 0.8663\n",
            "Epoch 76/100\n",
            "100/100 [==============================] - 26s 256ms/step - loss: 0.1505 - acc: 0.9445 - val_loss: 0.3307 - val_acc: 0.8784\n",
            "Epoch 77/100\n",
            "100/100 [==============================] - 26s 257ms/step - loss: 0.1330 - acc: 0.9550 - val_loss: 0.3468 - val_acc: 0.8830\n",
            "Epoch 78/100\n",
            "100/100 [==============================] - 25s 253ms/step - loss: 0.1209 - acc: 0.9560 - val_loss: 0.3733 - val_acc: 0.8704\n",
            "Epoch 79/100\n",
            "100/100 [==============================] - 26s 261ms/step - loss: 0.1493 - acc: 0.9490 - val_loss: 0.4724 - val_acc: 0.8211\n",
            "Epoch 80/100\n",
            "100/100 [==============================] - 26s 257ms/step - loss: 0.1294 - acc: 0.9550 - val_loss: 0.3271 - val_acc: 0.8770\n",
            "Epoch 81/100\n",
            "100/100 [==============================] - 25s 255ms/step - loss: 0.1335 - acc: 0.9540 - val_loss: 0.3231 - val_acc: 0.8864\n",
            "Epoch 82/100\n",
            "100/100 [==============================] - 26s 256ms/step - loss: 0.1167 - acc: 0.9610 - val_loss: 0.3944 - val_acc: 0.8510\n",
            "Epoch 83/100\n",
            "100/100 [==============================] - 26s 260ms/step - loss: 0.1349 - acc: 0.9550 - val_loss: 0.3687 - val_acc: 0.8704\n",
            "Epoch 84/100\n",
            "100/100 [==============================] - 26s 256ms/step - loss: 0.1209 - acc: 0.9570 - val_loss: 0.3281 - val_acc: 0.8754\n",
            "Epoch 85/100\n",
            "100/100 [==============================] - 26s 256ms/step - loss: 0.1228 - acc: 0.9540 - val_loss: 0.3538 - val_acc: 0.8760\n",
            "Epoch 86/100\n",
            "100/100 [==============================] - 26s 257ms/step - loss: 0.1064 - acc: 0.9620 - val_loss: 0.3126 - val_acc: 0.8834\n",
            "Epoch 87/100\n",
            "100/100 [==============================] - 25s 254ms/step - loss: 0.1116 - acc: 0.9615 - val_loss: 0.4100 - val_acc: 0.8683\n",
            "Epoch 88/100\n",
            "100/100 [==============================] - 25s 254ms/step - loss: 0.1210 - acc: 0.9530 - val_loss: 0.3212 - val_acc: 0.8960\n",
            "Epoch 89/100\n",
            "100/100 [==============================] - 26s 257ms/step - loss: 0.1231 - acc: 0.9575 - val_loss: 0.4123 - val_acc: 0.8523\n",
            "Epoch 90/100\n",
            "100/100 [==============================] - 26s 257ms/step - loss: 0.1310 - acc: 0.9590 - val_loss: 0.3241 - val_acc: 0.8790\n",
            "Epoch 91/100\n",
            "100/100 [==============================] - 26s 262ms/step - loss: 0.1220 - acc: 0.9590 - val_loss: 0.2936 - val_acc: 0.8915\n",
            "Epoch 92/100\n",
            "100/100 [==============================] - 26s 256ms/step - loss: 0.1069 - acc: 0.9640 - val_loss: 0.3759 - val_acc: 0.8683\n",
            "Epoch 93/100\n",
            "100/100 [==============================] - 25s 254ms/step - loss: 0.1171 - acc: 0.9600 - val_loss: 0.3389 - val_acc: 0.8880\n",
            "Epoch 94/100\n",
            "100/100 [==============================] - 25s 253ms/step - loss: 0.1243 - acc: 0.9610 - val_loss: 0.3511 - val_acc: 0.8714\n",
            "Epoch 95/100\n",
            "100/100 [==============================] - 25s 254ms/step - loss: 0.0923 - acc: 0.9685 - val_loss: 0.4026 - val_acc: 0.8563\n",
            "Epoch 96/100\n",
            "100/100 [==============================] - 25s 254ms/step - loss: 0.1133 - acc: 0.9580 - val_loss: 0.3381 - val_acc: 0.8700\n",
            "Epoch 97/100\n",
            "100/100 [==============================] - 25s 254ms/step - loss: 0.1056 - acc: 0.9605 - val_loss: 0.3380 - val_acc: 0.8834\n",
            "Epoch 98/100\n",
            "100/100 [==============================] - 26s 255ms/step - loss: 0.1226 - acc: 0.9570 - val_loss: 0.3035 - val_acc: 0.8945\n",
            "Epoch 99/100\n",
            "100/100 [==============================] - 26s 257ms/step - loss: 0.0921 - acc: 0.9640 - val_loss: 0.2857 - val_acc: 0.8990\n",
            "Epoch 100/100\n",
            "100/100 [==============================] - 26s 255ms/step - loss: 0.1095 - acc: 0.9590 - val_loss: 0.3022 - val_acc: 0.8945\n"
          ],
          "name": "stdout"
        }
      ]
    },
    {
      "cell_type": "code",
      "metadata": {
        "id": "akz-9FFVP-dN",
        "colab_type": "code",
        "outputId": "7ded3b54-cd86-4c0b-82bb-370562bdf1f8",
        "colab": {
          "base_uri": "https://localhost:8080/",
          "height": 545
        }
      },
      "source": [
        "import matplotlib.pyplot as plt\n",
        "\n",
        "acc=history.history['acc']\n",
        "val_acc=history.history['val_acc']\n",
        "loss=history.history['loss']\n",
        "val_loss=history.history['val_loss']\n",
        "\n",
        "epochs=range(1,len(acc)+1)\n",
        "\n",
        "#正解率plot\n",
        "plt.plot(epochs,acc,'bo',label='Training acc')\n",
        "plt.plot(epochs,val_acc,'b',label='Validation acc')\n",
        "plt.title('Training and validation accuracy')\n",
        "plt.legend()\n",
        "\n",
        "plt.figure()\n",
        "\n",
        "\n",
        "#損失値をplot\n",
        "plt.plot(epochs,loss,'bo',label='Training loss')\n",
        "plt.plot(epochs,val_loss,'b',label='Validation loss')\n",
        "plt.title('Training and validation loss')\n",
        "plt.legend()\n",
        "\n",
        "plt.show()\n"
      ],
      "execution_count": 0,
      "outputs": [
        {
          "output_type": "display_data",
          "data": {
            "image/png": "[encoded data removed]",
            "text/plain": [
              "<Figure size 432x288 with 1 Axes>"
            ]
          },
          "metadata": {
            "tags": []
          }
        },
        {
          "output_type": "display_data",
          "data": {
            "image/png": "[encoded data removed]",
            "text/plain": [
              "<Figure size 432x288 with 1 Axes>"
            ]
          },
          "metadata": {
            "tags": []
          }
        }
      ]
    },
    {
      "cell_type": "code",
      "metadata": {
        "id": "WmPt0A0ni848",
        "colab_type": "code",
        "colab": {}
      },
      "source": [
        "#もしモデルを保存するなら\n",
        "model.save('weed_type.h1')"
      ],
      "execution_count": 0,
      "outputs": []
    },
    {
      "cell_type": "code",
      "metadata": {
        "id": "SSOvLjnOtuDy",
        "colab_type": "code",
        "colab": {}
      },
      "source": [
        ""
      ],
      "execution_count": 0,
      "outputs": []
    }
  ]
}